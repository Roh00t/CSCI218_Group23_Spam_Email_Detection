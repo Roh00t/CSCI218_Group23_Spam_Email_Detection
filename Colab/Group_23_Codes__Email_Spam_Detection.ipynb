{
  "nbformat": 4,
  "nbformat_minor": 0,
  "metadata": {
    "colab": {
      "provenance": [],
      "collapsed_sections": [
        "eS5goeVSbLgD",
        "45jV7heBbCG7"
      ]
    },
    "kernelspec": {
      "name": "python3",
      "display_name": "Python 3"
    },
    "language_info": {
      "name": "python"
    }
  },
  "cells": [
    {
      "cell_type": "markdown",
      "source": [
        "##### **CSCI218 Foundation to Artifical Intelligence Project**\n",
        "\n",
        "*CSCI218 - FT - T02 T04 T05*\\\n",
        "**Group 23 - 07/02/2025**\n",
        "\n",
        "1. Rohit Panda (8943060)\n",
        "2. Tan Jun Rong, Dillon (9093187)\n",
        "3. Yeonjeong Lee (8876368)\n",
        "4. Karissa Angeline Ramos Wong (8877889)\n",
        "5. Naga Maheeth Sreekantom(7770200)\n",
        "6. Russel Hendro Yudo (8496663)"
      ],
      "metadata": {
        "id": "awzKpDHc8ZVm"
      }
    },
    {
      "cell_type": "markdown",
      "source": [
        "# ***Information on Dataset***"
      ],
      "metadata": {
        "id": "yVg0aOr5bZvs"
      }
    },
    {
      "cell_type": "markdown",
      "source": [
        "## **Import Libraries**"
      ],
      "metadata": {
        "id": "D25KUkvauT8n"
      }
    },
    {
      "cell_type": "code",
      "source": [
        "!pip install tensorflow==2.12.0"
      ],
      "metadata": {
        "colab": {
          "base_uri": "https://localhost:8080/"
        },
        "id": "LfGb2fkrwHN3",
        "outputId": "5495cbb9-3a16-44ba-c1b1-597a887f529d"
      },
      "execution_count": null,
      "outputs": [
        {
          "output_type": "stream",
          "name": "stdout",
          "text": [
            "Requirement already satisfied: tensorflow==2.12.0 in /usr/local/lib/python3.11/dist-packages (2.12.0)\n",
            "Requirement already satisfied: absl-py>=1.0.0 in /usr/local/lib/python3.11/dist-packages (from tensorflow==2.12.0) (1.4.0)\n",
            "Requirement already satisfied: astunparse>=1.6.0 in /usr/local/lib/python3.11/dist-packages (from tensorflow==2.12.0) (1.6.3)\n",
            "Requirement already satisfied: flatbuffers>=2.0 in /usr/local/lib/python3.11/dist-packages (from tensorflow==2.12.0) (25.2.10)\n",
            "Requirement already satisfied: gast<=0.4.0,>=0.2.1 in /usr/local/lib/python3.11/dist-packages (from tensorflow==2.12.0) (0.4.0)\n",
            "Requirement already satisfied: google-pasta>=0.1.1 in /usr/local/lib/python3.11/dist-packages (from tensorflow==2.12.0) (0.2.0)\n",
            "Requirement already satisfied: grpcio<2.0,>=1.24.3 in /usr/local/lib/python3.11/dist-packages (from tensorflow==2.12.0) (1.70.0)\n",
            "Requirement already satisfied: h5py>=2.9.0 in /usr/local/lib/python3.11/dist-packages (from tensorflow==2.12.0) (3.12.1)\n",
            "Requirement already satisfied: jax>=0.3.15 in /usr/local/lib/python3.11/dist-packages (from tensorflow==2.12.0) (0.4.30)\n",
            "Requirement already satisfied: keras<2.13,>=2.12.0 in /usr/local/lib/python3.11/dist-packages (from tensorflow==2.12.0) (2.12.0)\n",
            "Requirement already satisfied: libclang>=13.0.0 in /usr/local/lib/python3.11/dist-packages (from tensorflow==2.12.0) (18.1.1)\n",
            "Requirement already satisfied: numpy<1.24,>=1.22 in /usr/local/lib/python3.11/dist-packages (from tensorflow==2.12.0) (1.23.5)\n",
            "Requirement already satisfied: opt-einsum>=2.3.2 in /usr/local/lib/python3.11/dist-packages (from tensorflow==2.12.0) (3.4.0)\n",
            "Requirement already satisfied: packaging in /usr/local/lib/python3.11/dist-packages (from tensorflow==2.12.0) (24.2)\n",
            "Requirement already satisfied: protobuf!=4.21.0,!=4.21.1,!=4.21.2,!=4.21.3,!=4.21.4,!=4.21.5,<5.0.0dev,>=3.20.3 in /usr/local/lib/python3.11/dist-packages (from tensorflow==2.12.0) (4.25.6)\n",
            "Requirement already satisfied: setuptools in /usr/local/lib/python3.11/dist-packages (from tensorflow==2.12.0) (75.1.0)\n",
            "Requirement already satisfied: six>=1.12.0 in /usr/local/lib/python3.11/dist-packages (from tensorflow==2.12.0) (1.17.0)\n",
            "Requirement already satisfied: tensorboard<2.13,>=2.12 in /usr/local/lib/python3.11/dist-packages (from tensorflow==2.12.0) (2.12.3)\n",
            "Requirement already satisfied: tensorflow-estimator<2.13,>=2.12.0 in /usr/local/lib/python3.11/dist-packages (from tensorflow==2.12.0) (2.12.0)\n",
            "Requirement already satisfied: termcolor>=1.1.0 in /usr/local/lib/python3.11/dist-packages (from tensorflow==2.12.0) (2.5.0)\n",
            "Requirement already satisfied: typing-extensions>=3.6.6 in /usr/local/lib/python3.11/dist-packages (from tensorflow==2.12.0) (4.12.2)\n",
            "Requirement already satisfied: wrapt<1.15,>=1.11.0 in /usr/local/lib/python3.11/dist-packages (from tensorflow==2.12.0) (1.14.1)\n",
            "Requirement already satisfied: tensorflow-io-gcs-filesystem>=0.23.1 in /usr/local/lib/python3.11/dist-packages (from tensorflow==2.12.0) (0.37.1)\n",
            "Requirement already satisfied: wheel<1.0,>=0.23.0 in /usr/local/lib/python3.11/dist-packages (from astunparse>=1.6.0->tensorflow==2.12.0) (0.45.1)\n",
            "Requirement already satisfied: jaxlib<=0.4.30,>=0.4.27 in /usr/local/lib/python3.11/dist-packages (from jax>=0.3.15->tensorflow==2.12.0) (0.4.30)\n",
            "Requirement already satisfied: ml-dtypes>=0.2.0 in /usr/local/lib/python3.11/dist-packages (from jax>=0.3.15->tensorflow==2.12.0) (0.4.1)\n",
            "Requirement already satisfied: scipy>=1.9 in /usr/local/lib/python3.11/dist-packages (from jax>=0.3.15->tensorflow==2.12.0) (1.13.1)\n",
            "Requirement already satisfied: google-auth<3,>=1.6.3 in /usr/local/lib/python3.11/dist-packages (from tensorboard<2.13,>=2.12->tensorflow==2.12.0) (2.27.0)\n",
            "Requirement already satisfied: google-auth-oauthlib<1.1,>=0.5 in /usr/local/lib/python3.11/dist-packages (from tensorboard<2.13,>=2.12->tensorflow==2.12.0) (1.0.0)\n",
            "Requirement already satisfied: markdown>=2.6.8 in /usr/local/lib/python3.11/dist-packages (from tensorboard<2.13,>=2.12->tensorflow==2.12.0) (3.7)\n",
            "Requirement already satisfied: requests<3,>=2.21.0 in /usr/local/lib/python3.11/dist-packages (from tensorboard<2.13,>=2.12->tensorflow==2.12.0) (2.32.3)\n",
            "Requirement already satisfied: tensorboard-data-server<0.8.0,>=0.7.0 in /usr/local/lib/python3.11/dist-packages (from tensorboard<2.13,>=2.12->tensorflow==2.12.0) (0.7.2)\n",
            "Requirement already satisfied: werkzeug>=1.0.1 in /usr/local/lib/python3.11/dist-packages (from tensorboard<2.13,>=2.12->tensorflow==2.12.0) (3.1.3)\n",
            "Requirement already satisfied: cachetools<6.0,>=2.0.0 in /usr/local/lib/python3.11/dist-packages (from google-auth<3,>=1.6.3->tensorboard<2.13,>=2.12->tensorflow==2.12.0) (5.5.1)\n",
            "Requirement already satisfied: pyasn1-modules>=0.2.1 in /usr/local/lib/python3.11/dist-packages (from google-auth<3,>=1.6.3->tensorboard<2.13,>=2.12->tensorflow==2.12.0) (0.4.1)\n",
            "Requirement already satisfied: rsa<5,>=3.1.4 in /usr/local/lib/python3.11/dist-packages (from google-auth<3,>=1.6.3->tensorboard<2.13,>=2.12->tensorflow==2.12.0) (4.9)\n",
            "Requirement already satisfied: requests-oauthlib>=0.7.0 in /usr/local/lib/python3.11/dist-packages (from google-auth-oauthlib<1.1,>=0.5->tensorboard<2.13,>=2.12->tensorflow==2.12.0) (2.0.0)\n",
            "Requirement already satisfied: charset-normalizer<4,>=2 in /usr/local/lib/python3.11/dist-packages (from requests<3,>=2.21.0->tensorboard<2.13,>=2.12->tensorflow==2.12.0) (3.4.1)\n",
            "Requirement already satisfied: idna<4,>=2.5 in /usr/local/lib/python3.11/dist-packages (from requests<3,>=2.21.0->tensorboard<2.13,>=2.12->tensorflow==2.12.0) (3.10)\n",
            "Requirement already satisfied: urllib3<3,>=1.21.1 in /usr/local/lib/python3.11/dist-packages (from requests<3,>=2.21.0->tensorboard<2.13,>=2.12->tensorflow==2.12.0) (2.3.0)\n",
            "Requirement already satisfied: certifi>=2017.4.17 in /usr/local/lib/python3.11/dist-packages (from requests<3,>=2.21.0->tensorboard<2.13,>=2.12->tensorflow==2.12.0) (2025.1.31)\n",
            "Requirement already satisfied: MarkupSafe>=2.1.1 in /usr/local/lib/python3.11/dist-packages (from werkzeug>=1.0.1->tensorboard<2.13,>=2.12->tensorflow==2.12.0) (3.0.2)\n",
            "Requirement already satisfied: pyasn1<0.7.0,>=0.4.6 in /usr/local/lib/python3.11/dist-packages (from pyasn1-modules>=0.2.1->google-auth<3,>=1.6.3->tensorboard<2.13,>=2.12->tensorflow==2.12.0) (0.6.1)\n",
            "Requirement already satisfied: oauthlib>=3.0.0 in /usr/local/lib/python3.11/dist-packages (from requests-oauthlib>=0.7.0->google-auth-oauthlib<1.1,>=0.5->tensorboard<2.13,>=2.12->tensorflow==2.12.0) (3.2.2)\n"
          ]
        }
      ]
    },
    {
      "cell_type": "code",
      "source": [
        "# Import Libraries\n",
        "# Importing Numpy & Pandas for data processing & data wrangling\n",
        "import numpy as np\n",
        "import pandas as pd\n",
        "import pickle\n",
        "from sklearn.svm import SVC\n",
        "# Importing  tools for visualization\n",
        "import matplotlib.pyplot as plt\n",
        "import seaborn as sns\n",
        "import tensorflow as tf\n",
        "import time\n",
        "# Import evaluation metric libraries\n",
        "from sklearn.metrics import confusion_matrix, accuracy_score, precision_score, recall_score, f1_score, roc_auc_score, roc_curve, classification_report\n",
        "\n",
        "# Word Cloud library\n",
        "from wordcloud import WordCloud, STOPWORDS\n",
        "from sklearn.utils import class_weight\n",
        "# Library used for data preprocessing\n",
        "from sklearn.feature_extraction.text import CountVectorizer\n",
        "from sklearn.ensemble import RandomForestClassifier\n",
        "# Import model selection libraries\n",
        "from sklearn.model_selection import train_test_split, cross_validate\n",
        "from sklearn.feature_extraction.text import TfidfVectorizer\n",
        "\n",
        "# Library used for ML Model implementation\n",
        "from sklearn.naive_bayes import MultinomialNB\n",
        "\n",
        "# Importing the Pipeline class from scikit-learn\n",
        "from sklearn.pipeline import Pipeline\n",
        "\n",
        "from tensorflow import keras\n",
        "from tensorflow.keras.layers import Bidirectional, LSTM, Dense, Embedding, Input, Dropout\n",
        "from tensorflow.keras.models import Model\n",
        "from tensorflow.keras.preprocessing.text import Tokenizer\n",
        "from tensorflow.keras.preprocessing.sequence import pad_sequences\n",
        "\n",
        "#from tensorflow.keras.mixed_precision import experimental as mixed_precision # Original line causing error\n",
        "from tensorflow.keras import mixed_precision # Import directly\n",
        "\n",
        "policy = mixed_precision.Policy('mixed_float16')\n",
        "mixed_precision.set_global_policy(policy) # Use set_global_policy instead of set_policy\n",
        "\n",
        "# Import the SimpleImputer class for handling missing values\n",
        "from sklearn.impute import SimpleImputer\n",
        "# Library used for ignore warnings\n",
        "import warnings\n",
        "warnings.filterwarnings('ignore')\n",
        "%matplotlib inline"
      ],
      "metadata": {
        "id": "Fq1Um6nXuUWI"
      },
      "execution_count": null,
      "outputs": []
    },
    {
      "cell_type": "markdown",
      "source": [
        "## **Data Loading**"
      ],
      "metadata": {
        "id": "vI2i3R6vpqc-"
      }
    },
    {
      "cell_type": "markdown",
      "source": [
        "Download and Upload [selected dataset](https://drive.google.com/drive/folders/1_GRI_dqcNjZ0MUsTGVNOnrVWJ-rWYv8T?usp=sharing) with `files.upload()` function."
      ],
      "metadata": {
        "id": "LVw_bg_ypsqS"
      }
    },
    {
      "cell_type": "code",
      "execution_count": null,
      "metadata": {
        "id": "1vaJZAdN8BVt",
        "colab": {
          "base_uri": "https://localhost:8080/",
          "height": 74
        },
        "outputId": "09202c43-2d7a-4adb-dadc-ad101d3f0405"
      },
      "outputs": [
        {
          "output_type": "display_data",
          "data": {
            "text/plain": [
              "<IPython.core.display.HTML object>"
            ],
            "text/html": [
              "\n",
              "     <input type=\"file\" id=\"files-8eae1b3a-67df-4d1f-909f-44e8f97c8d81\" name=\"files[]\" multiple disabled\n",
              "        style=\"border:none\" />\n",
              "     <output id=\"result-8eae1b3a-67df-4d1f-909f-44e8f97c8d81\">\n",
              "      Upload widget is only available when the cell has been executed in the\n",
              "      current browser session. Please rerun this cell to enable.\n",
              "      </output>\n",
              "      <script>// Copyright 2017 Google LLC\n",
              "//\n",
              "// Licensed under the Apache License, Version 2.0 (the \"License\");\n",
              "// you may not use this file except in compliance with the License.\n",
              "// You may obtain a copy of the License at\n",
              "//\n",
              "//      http://www.apache.org/licenses/LICENSE-2.0\n",
              "//\n",
              "// Unless required by applicable law or agreed to in writing, software\n",
              "// distributed under the License is distributed on an \"AS IS\" BASIS,\n",
              "// WITHOUT WARRANTIES OR CONDITIONS OF ANY KIND, either express or implied.\n",
              "// See the License for the specific language governing permissions and\n",
              "// limitations under the License.\n",
              "\n",
              "/**\n",
              " * @fileoverview Helpers for google.colab Python module.\n",
              " */\n",
              "(function(scope) {\n",
              "function span(text, styleAttributes = {}) {\n",
              "  const element = document.createElement('span');\n",
              "  element.textContent = text;\n",
              "  for (const key of Object.keys(styleAttributes)) {\n",
              "    element.style[key] = styleAttributes[key];\n",
              "  }\n",
              "  return element;\n",
              "}\n",
              "\n",
              "// Max number of bytes which will be uploaded at a time.\n",
              "const MAX_PAYLOAD_SIZE = 100 * 1024;\n",
              "\n",
              "function _uploadFiles(inputId, outputId) {\n",
              "  const steps = uploadFilesStep(inputId, outputId);\n",
              "  const outputElement = document.getElementById(outputId);\n",
              "  // Cache steps on the outputElement to make it available for the next call\n",
              "  // to uploadFilesContinue from Python.\n",
              "  outputElement.steps = steps;\n",
              "\n",
              "  return _uploadFilesContinue(outputId);\n",
              "}\n",
              "\n",
              "// This is roughly an async generator (not supported in the browser yet),\n",
              "// where there are multiple asynchronous steps and the Python side is going\n",
              "// to poll for completion of each step.\n",
              "// This uses a Promise to block the python side on completion of each step,\n",
              "// then passes the result of the previous step as the input to the next step.\n",
              "function _uploadFilesContinue(outputId) {\n",
              "  const outputElement = document.getElementById(outputId);\n",
              "  const steps = outputElement.steps;\n",
              "\n",
              "  const next = steps.next(outputElement.lastPromiseValue);\n",
              "  return Promise.resolve(next.value.promise).then((value) => {\n",
              "    // Cache the last promise value to make it available to the next\n",
              "    // step of the generator.\n",
              "    outputElement.lastPromiseValue = value;\n",
              "    return next.value.response;\n",
              "  });\n",
              "}\n",
              "\n",
              "/**\n",
              " * Generator function which is called between each async step of the upload\n",
              " * process.\n",
              " * @param {string} inputId Element ID of the input file picker element.\n",
              " * @param {string} outputId Element ID of the output display.\n",
              " * @return {!Iterable<!Object>} Iterable of next steps.\n",
              " */\n",
              "function* uploadFilesStep(inputId, outputId) {\n",
              "  const inputElement = document.getElementById(inputId);\n",
              "  inputElement.disabled = false;\n",
              "\n",
              "  const outputElement = document.getElementById(outputId);\n",
              "  outputElement.innerHTML = '';\n",
              "\n",
              "  const pickedPromise = new Promise((resolve) => {\n",
              "    inputElement.addEventListener('change', (e) => {\n",
              "      resolve(e.target.files);\n",
              "    });\n",
              "  });\n",
              "\n",
              "  const cancel = document.createElement('button');\n",
              "  inputElement.parentElement.appendChild(cancel);\n",
              "  cancel.textContent = 'Cancel upload';\n",
              "  const cancelPromise = new Promise((resolve) => {\n",
              "    cancel.onclick = () => {\n",
              "      resolve(null);\n",
              "    };\n",
              "  });\n",
              "\n",
              "  // Wait for the user to pick the files.\n",
              "  const files = yield {\n",
              "    promise: Promise.race([pickedPromise, cancelPromise]),\n",
              "    response: {\n",
              "      action: 'starting',\n",
              "    }\n",
              "  };\n",
              "\n",
              "  cancel.remove();\n",
              "\n",
              "  // Disable the input element since further picks are not allowed.\n",
              "  inputElement.disabled = true;\n",
              "\n",
              "  if (!files) {\n",
              "    return {\n",
              "      response: {\n",
              "        action: 'complete',\n",
              "      }\n",
              "    };\n",
              "  }\n",
              "\n",
              "  for (const file of files) {\n",
              "    const li = document.createElement('li');\n",
              "    li.append(span(file.name, {fontWeight: 'bold'}));\n",
              "    li.append(span(\n",
              "        `(${file.type || 'n/a'}) - ${file.size} bytes, ` +\n",
              "        `last modified: ${\n",
              "            file.lastModifiedDate ? file.lastModifiedDate.toLocaleDateString() :\n",
              "                                    'n/a'} - `));\n",
              "    const percent = span('0% done');\n",
              "    li.appendChild(percent);\n",
              "\n",
              "    outputElement.appendChild(li);\n",
              "\n",
              "    const fileDataPromise = new Promise((resolve) => {\n",
              "      const reader = new FileReader();\n",
              "      reader.onload = (e) => {\n",
              "        resolve(e.target.result);\n",
              "      };\n",
              "      reader.readAsArrayBuffer(file);\n",
              "    });\n",
              "    // Wait for the data to be ready.\n",
              "    let fileData = yield {\n",
              "      promise: fileDataPromise,\n",
              "      response: {\n",
              "        action: 'continue',\n",
              "      }\n",
              "    };\n",
              "\n",
              "    // Use a chunked sending to avoid message size limits. See b/62115660.\n",
              "    let position = 0;\n",
              "    do {\n",
              "      const length = Math.min(fileData.byteLength - position, MAX_PAYLOAD_SIZE);\n",
              "      const chunk = new Uint8Array(fileData, position, length);\n",
              "      position += length;\n",
              "\n",
              "      const base64 = btoa(String.fromCharCode.apply(null, chunk));\n",
              "      yield {\n",
              "        response: {\n",
              "          action: 'append',\n",
              "          file: file.name,\n",
              "          data: base64,\n",
              "        },\n",
              "      };\n",
              "\n",
              "      let percentDone = fileData.byteLength === 0 ?\n",
              "          100 :\n",
              "          Math.round((position / fileData.byteLength) * 100);\n",
              "      percent.textContent = `${percentDone}% done`;\n",
              "\n",
              "    } while (position < fileData.byteLength);\n",
              "  }\n",
              "\n",
              "  // All done.\n",
              "  yield {\n",
              "    response: {\n",
              "      action: 'complete',\n",
              "    }\n",
              "  };\n",
              "}\n",
              "\n",
              "scope.google = scope.google || {};\n",
              "scope.google.colab = scope.google.colab || {};\n",
              "scope.google.colab._files = {\n",
              "  _uploadFiles,\n",
              "  _uploadFilesContinue,\n",
              "};\n",
              "})(self);\n",
              "</script> "
            ]
          },
          "metadata": {}
        },
        {
          "output_type": "stream",
          "name": "stdout",
          "text": [
            "Saving enron_spam_data.csv to enron_spam_data.csv\n"
          ]
        }
      ],
      "source": [
        "from google.colab import files\n",
        "uploaded = files.upload()"
      ]
    },
    {
      "cell_type": "markdown",
      "source": [
        "## **Dataset View of Data**"
      ],
      "metadata": {
        "id": "5SHCKSBob-7X"
      }
    },
    {
      "cell_type": "code",
      "source": [
        "import pandas as pd\n",
        "\n",
        "# Load data file\n",
        "dataset = pd.read_csv('/content/enron_spam_data.csv')\n",
        "dataset"
      ],
      "metadata": {
        "id": "0iZqhFptqGsb",
        "colab": {
          "base_uri": "https://localhost:8080/",
          "height": 424
        },
        "outputId": "35e4c0a6-f9ab-45e5-d297-76ca3d9f58b7"
      },
      "execution_count": null,
      "outputs": [
        {
          "output_type": "execute_result",
          "data": {
            "text/plain": [
              "       Message ID                                            Subject  \\\n",
              "0               0                       christmas tree farm pictures   \n",
              "1               1                           vastar resources , inc .   \n",
              "2               2                       calpine daily gas nomination   \n",
              "3               3                                         re : issue   \n",
              "4               4                          meter 7268 nov allocation   \n",
              "...           ...                                                ...   \n",
              "33711       33711  = ? iso - 8859 - 1 ? q ? good _ news _ c = eda...   \n",
              "33712       33712  all prescript medicines are on special . to be...   \n",
              "33713       33713              the next generation online pharmacy .   \n",
              "33714       33714                     bloow in 5 - 10 times the time   \n",
              "33715       33715                   dear sir , i am interested in it   \n",
              "\n",
              "                                                 Message Spam/Ham        Date  \n",
              "0                                                    NaN      ham  1999-12-10  \n",
              "1      gary , production from the high island larger ...      ham  1999-12-13  \n",
              "2                 - calpine daily gas nomination 1 . doc      ham  1999-12-14  \n",
              "3      fyi - see note below - already done .\\nstella\\...      ham  1999-12-14  \n",
              "4      fyi .\\n- - - - - - - - - - - - - - - - - - - -...      ham  1999-12-14  \n",
              "...                                                  ...      ...         ...  \n",
              "33711  hello , welcome to gigapharm onlinne shop .\\np...     spam  2005-07-29  \n",
              "33712  i got it earlier than expected and it was wrap...     spam  2005-07-29  \n",
              "33713  are you ready to rock on ? let the man in you ...     spam  2005-07-30  \n",
              "33714  learn how to last 5 - 10 times longer in\\nbed ...     spam  2005-07-30  \n",
              "33715  hi : )\\ndo you need some softwares ? i can giv...     spam  2005-07-31  \n",
              "\n",
              "[33716 rows x 5 columns]"
            ],
            "text/html": [
              "\n",
              "  <div id=\"df-4e7b27ee-cd1e-4224-93ce-57d6c458206b\" class=\"colab-df-container\">\n",
              "    <div>\n",
              "<style scoped>\n",
              "    .dataframe tbody tr th:only-of-type {\n",
              "        vertical-align: middle;\n",
              "    }\n",
              "\n",
              "    .dataframe tbody tr th {\n",
              "        vertical-align: top;\n",
              "    }\n",
              "\n",
              "    .dataframe thead th {\n",
              "        text-align: right;\n",
              "    }\n",
              "</style>\n",
              "<table border=\"1\" class=\"dataframe\">\n",
              "  <thead>\n",
              "    <tr style=\"text-align: right;\">\n",
              "      <th></th>\n",
              "      <th>Message ID</th>\n",
              "      <th>Subject</th>\n",
              "      <th>Message</th>\n",
              "      <th>Spam/Ham</th>\n",
              "      <th>Date</th>\n",
              "    </tr>\n",
              "  </thead>\n",
              "  <tbody>\n",
              "    <tr>\n",
              "      <th>0</th>\n",
              "      <td>0</td>\n",
              "      <td>christmas tree farm pictures</td>\n",
              "      <td>NaN</td>\n",
              "      <td>ham</td>\n",
              "      <td>1999-12-10</td>\n",
              "    </tr>\n",
              "    <tr>\n",
              "      <th>1</th>\n",
              "      <td>1</td>\n",
              "      <td>vastar resources , inc .</td>\n",
              "      <td>gary , production from the high island larger ...</td>\n",
              "      <td>ham</td>\n",
              "      <td>1999-12-13</td>\n",
              "    </tr>\n",
              "    <tr>\n",
              "      <th>2</th>\n",
              "      <td>2</td>\n",
              "      <td>calpine daily gas nomination</td>\n",
              "      <td>- calpine daily gas nomination 1 . doc</td>\n",
              "      <td>ham</td>\n",
              "      <td>1999-12-14</td>\n",
              "    </tr>\n",
              "    <tr>\n",
              "      <th>3</th>\n",
              "      <td>3</td>\n",
              "      <td>re : issue</td>\n",
              "      <td>fyi - see note below - already done .\\nstella\\...</td>\n",
              "      <td>ham</td>\n",
              "      <td>1999-12-14</td>\n",
              "    </tr>\n",
              "    <tr>\n",
              "      <th>4</th>\n",
              "      <td>4</td>\n",
              "      <td>meter 7268 nov allocation</td>\n",
              "      <td>fyi .\\n- - - - - - - - - - - - - - - - - - - -...</td>\n",
              "      <td>ham</td>\n",
              "      <td>1999-12-14</td>\n",
              "    </tr>\n",
              "    <tr>\n",
              "      <th>...</th>\n",
              "      <td>...</td>\n",
              "      <td>...</td>\n",
              "      <td>...</td>\n",
              "      <td>...</td>\n",
              "      <td>...</td>\n",
              "    </tr>\n",
              "    <tr>\n",
              "      <th>33711</th>\n",
              "      <td>33711</td>\n",
              "      <td>= ? iso - 8859 - 1 ? q ? good _ news _ c = eda...</td>\n",
              "      <td>hello , welcome to gigapharm onlinne shop .\\np...</td>\n",
              "      <td>spam</td>\n",
              "      <td>2005-07-29</td>\n",
              "    </tr>\n",
              "    <tr>\n",
              "      <th>33712</th>\n",
              "      <td>33712</td>\n",
              "      <td>all prescript medicines are on special . to be...</td>\n",
              "      <td>i got it earlier than expected and it was wrap...</td>\n",
              "      <td>spam</td>\n",
              "      <td>2005-07-29</td>\n",
              "    </tr>\n",
              "    <tr>\n",
              "      <th>33713</th>\n",
              "      <td>33713</td>\n",
              "      <td>the next generation online pharmacy .</td>\n",
              "      <td>are you ready to rock on ? let the man in you ...</td>\n",
              "      <td>spam</td>\n",
              "      <td>2005-07-30</td>\n",
              "    </tr>\n",
              "    <tr>\n",
              "      <th>33714</th>\n",
              "      <td>33714</td>\n",
              "      <td>bloow in 5 - 10 times the time</td>\n",
              "      <td>learn how to last 5 - 10 times longer in\\nbed ...</td>\n",
              "      <td>spam</td>\n",
              "      <td>2005-07-30</td>\n",
              "    </tr>\n",
              "    <tr>\n",
              "      <th>33715</th>\n",
              "      <td>33715</td>\n",
              "      <td>dear sir , i am interested in it</td>\n",
              "      <td>hi : )\\ndo you need some softwares ? i can giv...</td>\n",
              "      <td>spam</td>\n",
              "      <td>2005-07-31</td>\n",
              "    </tr>\n",
              "  </tbody>\n",
              "</table>\n",
              "<p>33716 rows × 5 columns</p>\n",
              "</div>\n",
              "    <div class=\"colab-df-buttons\">\n",
              "\n",
              "  <div class=\"colab-df-container\">\n",
              "    <button class=\"colab-df-convert\" onclick=\"convertToInteractive('df-4e7b27ee-cd1e-4224-93ce-57d6c458206b')\"\n",
              "            title=\"Convert this dataframe to an interactive table.\"\n",
              "            style=\"display:none;\">\n",
              "\n",
              "  <svg xmlns=\"http://www.w3.org/2000/svg\" height=\"24px\" viewBox=\"0 -960 960 960\">\n",
              "    <path d=\"M120-120v-720h720v720H120Zm60-500h600v-160H180v160Zm220 220h160v-160H400v160Zm0 220h160v-160H400v160ZM180-400h160v-160H180v160Zm440 0h160v-160H620v160ZM180-180h160v-160H180v160Zm440 0h160v-160H620v160Z\"/>\n",
              "  </svg>\n",
              "    </button>\n",
              "\n",
              "  <style>\n",
              "    .colab-df-container {\n",
              "      display:flex;\n",
              "      gap: 12px;\n",
              "    }\n",
              "\n",
              "    .colab-df-convert {\n",
              "      background-color: #E8F0FE;\n",
              "      border: none;\n",
              "      border-radius: 50%;\n",
              "      cursor: pointer;\n",
              "      display: none;\n",
              "      fill: #1967D2;\n",
              "      height: 32px;\n",
              "      padding: 0 0 0 0;\n",
              "      width: 32px;\n",
              "    }\n",
              "\n",
              "    .colab-df-convert:hover {\n",
              "      background-color: #E2EBFA;\n",
              "      box-shadow: 0px 1px 2px rgba(60, 64, 67, 0.3), 0px 1px 3px 1px rgba(60, 64, 67, 0.15);\n",
              "      fill: #174EA6;\n",
              "    }\n",
              "\n",
              "    .colab-df-buttons div {\n",
              "      margin-bottom: 4px;\n",
              "    }\n",
              "\n",
              "    [theme=dark] .colab-df-convert {\n",
              "      background-color: #3B4455;\n",
              "      fill: #D2E3FC;\n",
              "    }\n",
              "\n",
              "    [theme=dark] .colab-df-convert:hover {\n",
              "      background-color: #434B5C;\n",
              "      box-shadow: 0px 1px 3px 1px rgba(0, 0, 0, 0.15);\n",
              "      filter: drop-shadow(0px 1px 2px rgba(0, 0, 0, 0.3));\n",
              "      fill: #FFFFFF;\n",
              "    }\n",
              "  </style>\n",
              "\n",
              "    <script>\n",
              "      const buttonEl =\n",
              "        document.querySelector('#df-4e7b27ee-cd1e-4224-93ce-57d6c458206b button.colab-df-convert');\n",
              "      buttonEl.style.display =\n",
              "        google.colab.kernel.accessAllowed ? 'block' : 'none';\n",
              "\n",
              "      async function convertToInteractive(key) {\n",
              "        const element = document.querySelector('#df-4e7b27ee-cd1e-4224-93ce-57d6c458206b');\n",
              "        const dataTable =\n",
              "          await google.colab.kernel.invokeFunction('convertToInteractive',\n",
              "                                                    [key], {});\n",
              "        if (!dataTable) return;\n",
              "\n",
              "        const docLinkHtml = 'Like what you see? Visit the ' +\n",
              "          '<a target=\"_blank\" href=https://colab.research.google.com/notebooks/data_table.ipynb>data table notebook</a>'\n",
              "          + ' to learn more about interactive tables.';\n",
              "        element.innerHTML = '';\n",
              "        dataTable['output_type'] = 'display_data';\n",
              "        await google.colab.output.renderOutput(dataTable, element);\n",
              "        const docLink = document.createElement('div');\n",
              "        docLink.innerHTML = docLinkHtml;\n",
              "        element.appendChild(docLink);\n",
              "      }\n",
              "    </script>\n",
              "  </div>\n",
              "\n",
              "\n",
              "<div id=\"df-45c10ab1-ad4f-44aa-8765-ebde4b35faa5\">\n",
              "  <button class=\"colab-df-quickchart\" onclick=\"quickchart('df-45c10ab1-ad4f-44aa-8765-ebde4b35faa5')\"\n",
              "            title=\"Suggest charts\"\n",
              "            style=\"display:none;\">\n",
              "\n",
              "<svg xmlns=\"http://www.w3.org/2000/svg\" height=\"24px\"viewBox=\"0 0 24 24\"\n",
              "     width=\"24px\">\n",
              "    <g>\n",
              "        <path d=\"M19 3H5c-1.1 0-2 .9-2 2v14c0 1.1.9 2 2 2h14c1.1 0 2-.9 2-2V5c0-1.1-.9-2-2-2zM9 17H7v-7h2v7zm4 0h-2V7h2v10zm4 0h-2v-4h2v4z\"/>\n",
              "    </g>\n",
              "</svg>\n",
              "  </button>\n",
              "\n",
              "<style>\n",
              "  .colab-df-quickchart {\n",
              "      --bg-color: #E8F0FE;\n",
              "      --fill-color: #1967D2;\n",
              "      --hover-bg-color: #E2EBFA;\n",
              "      --hover-fill-color: #174EA6;\n",
              "      --disabled-fill-color: #AAA;\n",
              "      --disabled-bg-color: #DDD;\n",
              "  }\n",
              "\n",
              "  [theme=dark] .colab-df-quickchart {\n",
              "      --bg-color: #3B4455;\n",
              "      --fill-color: #D2E3FC;\n",
              "      --hover-bg-color: #434B5C;\n",
              "      --hover-fill-color: #FFFFFF;\n",
              "      --disabled-bg-color: #3B4455;\n",
              "      --disabled-fill-color: #666;\n",
              "  }\n",
              "\n",
              "  .colab-df-quickchart {\n",
              "    background-color: var(--bg-color);\n",
              "    border: none;\n",
              "    border-radius: 50%;\n",
              "    cursor: pointer;\n",
              "    display: none;\n",
              "    fill: var(--fill-color);\n",
              "    height: 32px;\n",
              "    padding: 0;\n",
              "    width: 32px;\n",
              "  }\n",
              "\n",
              "  .colab-df-quickchart:hover {\n",
              "    background-color: var(--hover-bg-color);\n",
              "    box-shadow: 0 1px 2px rgba(60, 64, 67, 0.3), 0 1px 3px 1px rgba(60, 64, 67, 0.15);\n",
              "    fill: var(--button-hover-fill-color);\n",
              "  }\n",
              "\n",
              "  .colab-df-quickchart-complete:disabled,\n",
              "  .colab-df-quickchart-complete:disabled:hover {\n",
              "    background-color: var(--disabled-bg-color);\n",
              "    fill: var(--disabled-fill-color);\n",
              "    box-shadow: none;\n",
              "  }\n",
              "\n",
              "  .colab-df-spinner {\n",
              "    border: 2px solid var(--fill-color);\n",
              "    border-color: transparent;\n",
              "    border-bottom-color: var(--fill-color);\n",
              "    animation:\n",
              "      spin 1s steps(1) infinite;\n",
              "  }\n",
              "\n",
              "  @keyframes spin {\n",
              "    0% {\n",
              "      border-color: transparent;\n",
              "      border-bottom-color: var(--fill-color);\n",
              "      border-left-color: var(--fill-color);\n",
              "    }\n",
              "    20% {\n",
              "      border-color: transparent;\n",
              "      border-left-color: var(--fill-color);\n",
              "      border-top-color: var(--fill-color);\n",
              "    }\n",
              "    30% {\n",
              "      border-color: transparent;\n",
              "      border-left-color: var(--fill-color);\n",
              "      border-top-color: var(--fill-color);\n",
              "      border-right-color: var(--fill-color);\n",
              "    }\n",
              "    40% {\n",
              "      border-color: transparent;\n",
              "      border-right-color: var(--fill-color);\n",
              "      border-top-color: var(--fill-color);\n",
              "    }\n",
              "    60% {\n",
              "      border-color: transparent;\n",
              "      border-right-color: var(--fill-color);\n",
              "    }\n",
              "    80% {\n",
              "      border-color: transparent;\n",
              "      border-right-color: var(--fill-color);\n",
              "      border-bottom-color: var(--fill-color);\n",
              "    }\n",
              "    90% {\n",
              "      border-color: transparent;\n",
              "      border-bottom-color: var(--fill-color);\n",
              "    }\n",
              "  }\n",
              "</style>\n",
              "\n",
              "  <script>\n",
              "    async function quickchart(key) {\n",
              "      const quickchartButtonEl =\n",
              "        document.querySelector('#' + key + ' button');\n",
              "      quickchartButtonEl.disabled = true;  // To prevent multiple clicks.\n",
              "      quickchartButtonEl.classList.add('colab-df-spinner');\n",
              "      try {\n",
              "        const charts = await google.colab.kernel.invokeFunction(\n",
              "            'suggestCharts', [key], {});\n",
              "      } catch (error) {\n",
              "        console.error('Error during call to suggestCharts:', error);\n",
              "      }\n",
              "      quickchartButtonEl.classList.remove('colab-df-spinner');\n",
              "      quickchartButtonEl.classList.add('colab-df-quickchart-complete');\n",
              "    }\n",
              "    (() => {\n",
              "      let quickchartButtonEl =\n",
              "        document.querySelector('#df-45c10ab1-ad4f-44aa-8765-ebde4b35faa5 button');\n",
              "      quickchartButtonEl.style.display =\n",
              "        google.colab.kernel.accessAllowed ? 'block' : 'none';\n",
              "    })();\n",
              "  </script>\n",
              "</div>\n",
              "\n",
              "  <div id=\"id_75ea72b9-3638-4be8-8d3a-02fc27c94b77\">\n",
              "    <style>\n",
              "      .colab-df-generate {\n",
              "        background-color: #E8F0FE;\n",
              "        border: none;\n",
              "        border-radius: 50%;\n",
              "        cursor: pointer;\n",
              "        display: none;\n",
              "        fill: #1967D2;\n",
              "        height: 32px;\n",
              "        padding: 0 0 0 0;\n",
              "        width: 32px;\n",
              "      }\n",
              "\n",
              "      .colab-df-generate:hover {\n",
              "        background-color: #E2EBFA;\n",
              "        box-shadow: 0px 1px 2px rgba(60, 64, 67, 0.3), 0px 1px 3px 1px rgba(60, 64, 67, 0.15);\n",
              "        fill: #174EA6;\n",
              "      }\n",
              "\n",
              "      [theme=dark] .colab-df-generate {\n",
              "        background-color: #3B4455;\n",
              "        fill: #D2E3FC;\n",
              "      }\n",
              "\n",
              "      [theme=dark] .colab-df-generate:hover {\n",
              "        background-color: #434B5C;\n",
              "        box-shadow: 0px 1px 3px 1px rgba(0, 0, 0, 0.15);\n",
              "        filter: drop-shadow(0px 1px 2px rgba(0, 0, 0, 0.3));\n",
              "        fill: #FFFFFF;\n",
              "      }\n",
              "    </style>\n",
              "    <button class=\"colab-df-generate\" onclick=\"generateWithVariable('dataset')\"\n",
              "            title=\"Generate code using this dataframe.\"\n",
              "            style=\"display:none;\">\n",
              "\n",
              "  <svg xmlns=\"http://www.w3.org/2000/svg\" height=\"24px\"viewBox=\"0 0 24 24\"\n",
              "       width=\"24px\">\n",
              "    <path d=\"M7,19H8.4L18.45,9,17,7.55,7,17.6ZM5,21V16.75L18.45,3.32a2,2,0,0,1,2.83,0l1.4,1.43a1.91,1.91,0,0,1,.58,1.4,1.91,1.91,0,0,1-.58,1.4L9.25,21ZM18.45,9,17,7.55Zm-12,3A5.31,5.31,0,0,0,4.9,8.1,5.31,5.31,0,0,0,1,6.5,5.31,5.31,0,0,0,4.9,4.9,5.31,5.31,0,0,0,6.5,1,5.31,5.31,0,0,0,8.1,4.9,5.31,5.31,0,0,0,12,6.5,5.46,5.46,0,0,0,6.5,12Z\"/>\n",
              "  </svg>\n",
              "    </button>\n",
              "    <script>\n",
              "      (() => {\n",
              "      const buttonEl =\n",
              "        document.querySelector('#id_75ea72b9-3638-4be8-8d3a-02fc27c94b77 button.colab-df-generate');\n",
              "      buttonEl.style.display =\n",
              "        google.colab.kernel.accessAllowed ? 'block' : 'none';\n",
              "\n",
              "      buttonEl.onclick = () => {\n",
              "        google.colab.notebook.generateWithVariable('dataset');\n",
              "      }\n",
              "      })();\n",
              "    </script>\n",
              "  </div>\n",
              "\n",
              "    </div>\n",
              "  </div>\n"
            ],
            "application/vnd.google.colaboratory.intrinsic+json": {
              "type": "dataframe",
              "variable_name": "dataset",
              "summary": "{\n  \"name\": \"dataset\",\n  \"rows\": 33716,\n  \"fields\": [\n    {\n      \"column\": \"Message ID\",\n      \"properties\": {\n        \"dtype\": \"number\",\n        \"std\": 9733,\n        \"min\": 0,\n        \"max\": 33715,\n        \"num_unique_values\": 33716,\n        \"samples\": [\n          3820,\n          3504,\n          30823\n        ],\n        \"semantic_type\": \"\",\n        \"description\": \"\"\n      }\n    },\n    {\n      \"column\": \"Subject\",\n      \"properties\": {\n        \"dtype\": \"string\",\n        \"num_unique_values\": 24206,\n        \"samples\": [\n          \"ferc meeting this morning - order on el paso capacity allocation\",\n          \"rolex watches now for pea nut\",\n          \"urgent help\"\n        ],\n        \"semantic_type\": \"\",\n        \"description\": \"\"\n      }\n    },\n    {\n      \"column\": \"Message\",\n      \"properties\": {\n        \"dtype\": \"string\",\n        \"num_unique_values\": 29779,\n        \"samples\": [\n          \"cera alert\\ntitle : the fallout from enron : implications for gas and power markets\\nurl ( s ) :\\nhttp : / / www . cera . com / eprofile ? u = 35\\nhttp : / / www . cera . com / eprofile ? u = 35\\nhttp : / / www . cera . com / eprofile ? u = 35\\nhttp : / / www . cera . com / eprofile ? u = 35\\nthe collapse of the proposed enron / dynegy merger has sent a shock wave through\\nthe industry but does not threaten the effective functioning of wholesale gas\\nand power markets in north america . major market participants have had more\\nthan a month to unwind positions with enron , and thus the overall exposure has\\nbeen greatly reduced .\\n* wholesale gas and power markets in north america continue to function\\neffectively . there is no reason for the physical flow of gas or power to be\\nimpeded this winter .\\n* liquidity for longer - term structured products has temporarily been reduced .\\nothers will move in to fill the gap , but this will take time .\\n* enron ' s problems do not represent a critical blow to deregulating gas and\\npower markets .\\nwe are sending this alert to global energy clients also because of enron ' s\\nmajor role in the us gas and power markets .\\n* * end * *\\nfollow above url to complete alert ( 2 printed pages ) .\\ne - mail category : alert\\ncera knowledge area ( s ) : western energy , global energy , north american gas , north american power\\nceraweek february 11 - 15 , 2002 - http : / / www . cera . com / ceraweek\\nspecial offer : register on - line before november 30 th , and a 2 - day pass\\nwill be upgraded to a 4 - day pass ( maximum $ 1 , 800 value ) .\\nday 1 : global oil / refined products ;\\nday 2 : natural gas / global energy ;\\nday 3 & 4 : electric power\\nto make changes to your cera . com profile go to :\\nhttp : / / www . cera . com / client / updateaccount\\nforgot your username and password ? go to :\\nhttp : / / www . cera . com / client / forgot\\nthis electronic message and attachments , if any , contain information\\nfrom cambridge energy research associates , inc . ( cera ) which is\\nconfidential and may be privileged . unauthorized disclosure , copying ,\\ndistribution or use of the contents of this message or any attachments ,\\nin whole or in part , is strictly prohibited .\\nterms of use : http : / / www . cera . com / tos\\nquestions / comments : webmaster @ cera . com\\ncopyright 2001 . cambridge energy research associates\",\n          \"people i am paying for : -\\nmyself\\njames new - power , gas and credit\\nmike wellings - uk power\\ncoralie evans - continental power\\nrobert yeo - uk and continental gas\\npaul d ' arcy - structured products\\ndavid wall - credit\\nandrew cornfield - metals risk manager\\npeople who may come from egm - fiona , we should get them on same booking if\\nthey confirm attendance ( patti , could you let fiona know ? )\\ncindy horn\\nkenny nicoll\\nmark fondren\\n- - - - - - - - - - - - - - - - - - - - - - forwarded by mike jordan / lon / ect on 25 / 09 / 2000 16 : 19\\n- - - - - - - - - - - - - - - - - - - - - - - - - - -\\nmike jordan\\n12 / 09 / 2000 08 : 26\\nto : sally beck / hou / ect @ ect\\ncc :\\nsubject : re : invitation list for operations business controller offsite\\nsally\\nproposed list - of all potential candidates\\nmyself\\njames new - and his lead risk managers\\nmike wellings - uk power\\ncoralie evans - continental power\\nrobert yeo - uk and continental gas\\npaul d ' arcy - structured products\\ndavid wall - credit\\ntim poullain - patterson - metals integration\\nandrew cornfield - metals risk manager\\nkevin rhodes - metals controller ( there are in fact two controllers at\\npresent kevin for financial trading and howard carter for merchanting )\\ni would leave ralph jaeger of frankfurt out of the offsite if places are\\nrestricted - he is covered by the mainstream accounting conferences , but i\\nwould have jan erland , and heidi and tiong hock from singapore .\\ni am not sure fernley would want to be there - but i can ask .\\non others - simon thurbin of liquids in london should be in houston and\\nwould be a good choice for inclusion . brent may want his two london\\ncontrollers of cindy horn and kenny nicoll to also come\\nwould you invite kristen to come with ( in place of barry ? ) .\\na long list ( and we may want to cut back ) but all these individuals carry\\nthe burden of operational risk assessment and management - standardising that\\nprocess would be an achievement indeed .\\nmike\\nps - shall we revisit agenda and discuss who should start preparing\\npresentations - we had thought about engaging rac , it etc\\nenron capital & trade resources corp .\\nfrom : sally beck 11 / 09 / 2000 21 : 49\\nto : mike jordan / lon / ect @ ect\\ncc :\\nsubject : invitation list for operations business controller offsite\\ndates : sunday , october 22 ( late afternoon , early evening kick - off , reception\\nand dinner )\\nmonday , october 23 ( all day , with evening event )\\ntuesday , october 24 ( through mid afternoon )\\nconfirmed speakers to date : jeff skilling ( tuesday , october 24 - available\\n9 : 30 am to 1 : 00 pm )\\nproposed list of attendees ( mike : let ' s talk about the scope of this list on\\ntuesday ) :\\nena\\ngas - steve jackson\\nleslie reeves\\nbob hall\\npower - stacey white\\ncalgary - peggy hedstrom\\neim\\npulp , paper , lumber - brenda herod\\negm\\ngeneral - brent price\\nglobal products - scott earnest\\nweather - todd hall\\nfinancial products - sheila glover\\n? kevin sweeney\\neel\\n? fernley dyson\\nmike jordan\\nlondon - james new\\nfrankfort - ralph jaeger\\nmetals - tim pouillan - patterson\\naustralia - heidi mason\\njapan - jan - erland beking\\nesa\\nscott mills\\nebs\\nbarry pearce\\nees\\nwanda curry ?\\nglobal risk management\\nsally beck\\nshona wilson\\neugenio perez\\nmike moscoso\",\n          \"hi louise ,\\nhopefully this is what you requested . if you prefer the other presentation ( by team as per the bound book wes gave you ) i can send that as well .\\n- - - - - original message - - - - -\\nfrom : hardy , trey\\nsent : monday , april 30 , 2001 8 : 37 am\\nto : killen , faith\\nsubject :\\nimportance : high\"\n        ],\n        \"semantic_type\": \"\",\n        \"description\": \"\"\n      }\n    },\n    {\n      \"column\": \"Spam/Ham\",\n      \"properties\": {\n        \"dtype\": \"category\",\n        \"num_unique_values\": 2,\n        \"samples\": [\n          \"spam\",\n          \"ham\"\n        ],\n        \"semantic_type\": \"\",\n        \"description\": \"\"\n      }\n    },\n    {\n      \"column\": \"Date\",\n      \"properties\": {\n        \"dtype\": \"object\",\n        \"num_unique_values\": 1527,\n        \"samples\": [\n          \"2001-12-24\",\n          \"2000-03-23\"\n        ],\n        \"semantic_type\": \"\",\n        \"description\": \"\"\n      }\n    }\n  ]\n}"
            }
          },
          "metadata": {},
          "execution_count": 5
        }
      ]
    },
    {
      "cell_type": "markdown",
      "source": [
        "## **Dataset Rows & Columns count**"
      ],
      "metadata": {
        "id": "xatEmxqQeBaZ"
      }
    },
    {
      "cell_type": "code",
      "source": [
        "# Dataset Rows & Columns count\n",
        "# Checking number of rows and columns of the dataset using shape\n",
        "print(\"Number of rows are: \",dataset.shape[0])\n",
        "print(\"Number of columns are: \",dataset.shape[1])"
      ],
      "metadata": {
        "colab": {
          "base_uri": "https://localhost:8080/"
        },
        "id": "ojcUUjw5eCNT",
        "outputId": "32dc4580-0340-46a4-9435-cbeca7f161d5"
      },
      "execution_count": null,
      "outputs": [
        {
          "output_type": "stream",
          "name": "stdout",
          "text": [
            "Number of rows are:  33716\n",
            "Number of columns are:  5\n"
          ]
        }
      ]
    },
    {
      "cell_type": "markdown",
      "source": [
        "## **Dataset Information**"
      ],
      "metadata": {
        "id": "cchBkUP7ePsL"
      }
    },
    {
      "cell_type": "code",
      "source": [
        "# Dataset Info\n",
        "# Checking information about the dataset using info\n",
        "dataset.info()"
      ],
      "metadata": {
        "colab": {
          "base_uri": "https://localhost:8080/"
        },
        "id": "p1n6rW68eSEg",
        "outputId": "685670d5-fc88-484e-86ab-dd5fccc884c1"
      },
      "execution_count": null,
      "outputs": [
        {
          "output_type": "stream",
          "name": "stdout",
          "text": [
            "<class 'pandas.core.frame.DataFrame'>\n",
            "RangeIndex: 33716 entries, 0 to 33715\n",
            "Data columns (total 5 columns):\n",
            " #   Column      Non-Null Count  Dtype \n",
            "---  ------      --------------  ----- \n",
            " 0   Message ID  33716 non-null  int64 \n",
            " 1   Subject     33427 non-null  object\n",
            " 2   Message     33345 non-null  object\n",
            " 3   Spam/Ham    33716 non-null  object\n",
            " 4   Date        33716 non-null  object\n",
            "dtypes: int64(1), object(4)\n",
            "memory usage: 1.3+ MB\n"
          ]
        }
      ]
    },
    {
      "cell_type": "markdown",
      "source": [
        "### **Duplicate Values**"
      ],
      "metadata": {
        "id": "0DqIieB9fFsH"
      }
    },
    {
      "cell_type": "code",
      "source": [
        "# Dataset Duplicate Value Count\n",
        "dup = dataset.duplicated().sum()\n",
        "print(f'number of duplicated rows are {dup}')"
      ],
      "metadata": {
        "colab": {
          "base_uri": "https://localhost:8080/"
        },
        "id": "nCd1HJh-fLSm",
        "outputId": "c121101b-f9de-437f-dacc-f1fd729b58e9"
      },
      "execution_count": null,
      "outputs": [
        {
          "output_type": "stream",
          "name": "stdout",
          "text": [
            "number of duplicated rows are 0\n"
          ]
        }
      ]
    },
    {
      "cell_type": "markdown",
      "source": [
        "### **Missing Values/Null Values Count**"
      ],
      "metadata": {
        "id": "ImSpC_02fStA"
      }
    },
    {
      "cell_type": "code",
      "source": [
        "# Missing Values/Null Values Count\n",
        "dataset.isnull().sum()"
      ],
      "metadata": {
        "colab": {
          "base_uri": "https://localhost:8080/",
          "height": 241
        },
        "id": "vKqThlSlfTBA",
        "outputId": "2fc42ba1-25e4-4fe7-ea10-197d0e2b97a5"
      },
      "execution_count": null,
      "outputs": [
        {
          "output_type": "execute_result",
          "data": {
            "text/plain": [
              "Message ID      0\n",
              "Subject       289\n",
              "Message       371\n",
              "Spam/Ham        0\n",
              "Date            0\n",
              "dtype: int64"
            ],
            "text/html": [
              "<div>\n",
              "<style scoped>\n",
              "    .dataframe tbody tr th:only-of-type {\n",
              "        vertical-align: middle;\n",
              "    }\n",
              "\n",
              "    .dataframe tbody tr th {\n",
              "        vertical-align: top;\n",
              "    }\n",
              "\n",
              "    .dataframe thead th {\n",
              "        text-align: right;\n",
              "    }\n",
              "</style>\n",
              "<table border=\"1\" class=\"dataframe\">\n",
              "  <thead>\n",
              "    <tr style=\"text-align: right;\">\n",
              "      <th></th>\n",
              "      <th>0</th>\n",
              "    </tr>\n",
              "  </thead>\n",
              "  <tbody>\n",
              "    <tr>\n",
              "      <th>Message ID</th>\n",
              "      <td>0</td>\n",
              "    </tr>\n",
              "    <tr>\n",
              "      <th>Subject</th>\n",
              "      <td>289</td>\n",
              "    </tr>\n",
              "    <tr>\n",
              "      <th>Message</th>\n",
              "      <td>371</td>\n",
              "    </tr>\n",
              "    <tr>\n",
              "      <th>Spam/Ham</th>\n",
              "      <td>0</td>\n",
              "    </tr>\n",
              "    <tr>\n",
              "      <th>Date</th>\n",
              "      <td>0</td>\n",
              "    </tr>\n",
              "  </tbody>\n",
              "</table>\n",
              "</div><br><label><b>dtype:</b> int64</label>"
            ]
          },
          "metadata": {},
          "execution_count": 9
        }
      ]
    },
    {
      "cell_type": "markdown",
      "source": [
        "# ***Understanding the Dataset***"
      ],
      "metadata": {
        "id": "lb7DdxfFiUql"
      }
    },
    {
      "cell_type": "code",
      "source": [
        "# Dataset Columns\n",
        "dataset.columns"
      ],
      "metadata": {
        "colab": {
          "base_uri": "https://localhost:8080/"
        },
        "id": "pjdqYFGKim82",
        "outputId": "14472871-1350-4b68-a56b-7fe9a8742105"
      },
      "execution_count": null,
      "outputs": [
        {
          "output_type": "execute_result",
          "data": {
            "text/plain": [
              "Index(['Message ID', 'Subject', 'Message', 'Spam/Ham', 'Date'], dtype='object')"
            ]
          },
          "metadata": {},
          "execution_count": 10
        }
      ]
    },
    {
      "cell_type": "code",
      "source": [
        "# Dataset Describe (all columns included)\n",
        "dataset.describe(include= 'all').round(2)"
      ],
      "metadata": {
        "colab": {
          "base_uri": "https://localhost:8080/",
          "height": 394
        },
        "id": "F20tkU1ljSZq",
        "outputId": "5586c2df-addf-404e-a5f7-b8a8fc550528"
      },
      "execution_count": null,
      "outputs": [
        {
          "output_type": "execute_result",
          "data": {
            "text/plain": [
              "        Message ID                               Subject  \\\n",
              "count     33716.00                                 33427   \n",
              "unique         NaN                                 24206   \n",
              "top            NaN  schedule crawler : hourahead failure   \n",
              "freq           NaN                                   185   \n",
              "mean      16857.50                                   NaN   \n",
              "std        9733.12                                   NaN   \n",
              "min           0.00                                   NaN   \n",
              "25%        8428.75                                   NaN   \n",
              "50%       16857.50                                   NaN   \n",
              "75%       25286.25                                   NaN   \n",
              "max       33715.00                                   NaN   \n",
              "\n",
              "                           Message Spam/Ham        Date  \n",
              "count                        33345    33716       33716  \n",
              "unique                       29779        2        1527  \n",
              "top     click here to be removed\\n     spam  2005-07-19  \n",
              "freq                            65    17171         457  \n",
              "mean                           NaN      NaN         NaN  \n",
              "std                            NaN      NaN         NaN  \n",
              "min                            NaN      NaN         NaN  \n",
              "25%                            NaN      NaN         NaN  \n",
              "50%                            NaN      NaN         NaN  \n",
              "75%                            NaN      NaN         NaN  \n",
              "max                            NaN      NaN         NaN  "
            ],
            "text/html": [
              "\n",
              "  <div id=\"df-82f581b2-c66e-4b0d-b7f9-005ecb651dc3\" class=\"colab-df-container\">\n",
              "    <div>\n",
              "<style scoped>\n",
              "    .dataframe tbody tr th:only-of-type {\n",
              "        vertical-align: middle;\n",
              "    }\n",
              "\n",
              "    .dataframe tbody tr th {\n",
              "        vertical-align: top;\n",
              "    }\n",
              "\n",
              "    .dataframe thead th {\n",
              "        text-align: right;\n",
              "    }\n",
              "</style>\n",
              "<table border=\"1\" class=\"dataframe\">\n",
              "  <thead>\n",
              "    <tr style=\"text-align: right;\">\n",
              "      <th></th>\n",
              "      <th>Message ID</th>\n",
              "      <th>Subject</th>\n",
              "      <th>Message</th>\n",
              "      <th>Spam/Ham</th>\n",
              "      <th>Date</th>\n",
              "    </tr>\n",
              "  </thead>\n",
              "  <tbody>\n",
              "    <tr>\n",
              "      <th>count</th>\n",
              "      <td>33716.00</td>\n",
              "      <td>33427</td>\n",
              "      <td>33345</td>\n",
              "      <td>33716</td>\n",
              "      <td>33716</td>\n",
              "    </tr>\n",
              "    <tr>\n",
              "      <th>unique</th>\n",
              "      <td>NaN</td>\n",
              "      <td>24206</td>\n",
              "      <td>29779</td>\n",
              "      <td>2</td>\n",
              "      <td>1527</td>\n",
              "    </tr>\n",
              "    <tr>\n",
              "      <th>top</th>\n",
              "      <td>NaN</td>\n",
              "      <td>schedule crawler : hourahead failure</td>\n",
              "      <td>click here to be removed\\n</td>\n",
              "      <td>spam</td>\n",
              "      <td>2005-07-19</td>\n",
              "    </tr>\n",
              "    <tr>\n",
              "      <th>freq</th>\n",
              "      <td>NaN</td>\n",
              "      <td>185</td>\n",
              "      <td>65</td>\n",
              "      <td>17171</td>\n",
              "      <td>457</td>\n",
              "    </tr>\n",
              "    <tr>\n",
              "      <th>mean</th>\n",
              "      <td>16857.50</td>\n",
              "      <td>NaN</td>\n",
              "      <td>NaN</td>\n",
              "      <td>NaN</td>\n",
              "      <td>NaN</td>\n",
              "    </tr>\n",
              "    <tr>\n",
              "      <th>std</th>\n",
              "      <td>9733.12</td>\n",
              "      <td>NaN</td>\n",
              "      <td>NaN</td>\n",
              "      <td>NaN</td>\n",
              "      <td>NaN</td>\n",
              "    </tr>\n",
              "    <tr>\n",
              "      <th>min</th>\n",
              "      <td>0.00</td>\n",
              "      <td>NaN</td>\n",
              "      <td>NaN</td>\n",
              "      <td>NaN</td>\n",
              "      <td>NaN</td>\n",
              "    </tr>\n",
              "    <tr>\n",
              "      <th>25%</th>\n",
              "      <td>8428.75</td>\n",
              "      <td>NaN</td>\n",
              "      <td>NaN</td>\n",
              "      <td>NaN</td>\n",
              "      <td>NaN</td>\n",
              "    </tr>\n",
              "    <tr>\n",
              "      <th>50%</th>\n",
              "      <td>16857.50</td>\n",
              "      <td>NaN</td>\n",
              "      <td>NaN</td>\n",
              "      <td>NaN</td>\n",
              "      <td>NaN</td>\n",
              "    </tr>\n",
              "    <tr>\n",
              "      <th>75%</th>\n",
              "      <td>25286.25</td>\n",
              "      <td>NaN</td>\n",
              "      <td>NaN</td>\n",
              "      <td>NaN</td>\n",
              "      <td>NaN</td>\n",
              "    </tr>\n",
              "    <tr>\n",
              "      <th>max</th>\n",
              "      <td>33715.00</td>\n",
              "      <td>NaN</td>\n",
              "      <td>NaN</td>\n",
              "      <td>NaN</td>\n",
              "      <td>NaN</td>\n",
              "    </tr>\n",
              "  </tbody>\n",
              "</table>\n",
              "</div>\n",
              "    <div class=\"colab-df-buttons\">\n",
              "\n",
              "  <div class=\"colab-df-container\">\n",
              "    <button class=\"colab-df-convert\" onclick=\"convertToInteractive('df-82f581b2-c66e-4b0d-b7f9-005ecb651dc3')\"\n",
              "            title=\"Convert this dataframe to an interactive table.\"\n",
              "            style=\"display:none;\">\n",
              "\n",
              "  <svg xmlns=\"http://www.w3.org/2000/svg\" height=\"24px\" viewBox=\"0 -960 960 960\">\n",
              "    <path d=\"M120-120v-720h720v720H120Zm60-500h600v-160H180v160Zm220 220h160v-160H400v160Zm0 220h160v-160H400v160ZM180-400h160v-160H180v160Zm440 0h160v-160H620v160ZM180-180h160v-160H180v160Zm440 0h160v-160H620v160Z\"/>\n",
              "  </svg>\n",
              "    </button>\n",
              "\n",
              "  <style>\n",
              "    .colab-df-container {\n",
              "      display:flex;\n",
              "      gap: 12px;\n",
              "    }\n",
              "\n",
              "    .colab-df-convert {\n",
              "      background-color: #E8F0FE;\n",
              "      border: none;\n",
              "      border-radius: 50%;\n",
              "      cursor: pointer;\n",
              "      display: none;\n",
              "      fill: #1967D2;\n",
              "      height: 32px;\n",
              "      padding: 0 0 0 0;\n",
              "      width: 32px;\n",
              "    }\n",
              "\n",
              "    .colab-df-convert:hover {\n",
              "      background-color: #E2EBFA;\n",
              "      box-shadow: 0px 1px 2px rgba(60, 64, 67, 0.3), 0px 1px 3px 1px rgba(60, 64, 67, 0.15);\n",
              "      fill: #174EA6;\n",
              "    }\n",
              "\n",
              "    .colab-df-buttons div {\n",
              "      margin-bottom: 4px;\n",
              "    }\n",
              "\n",
              "    [theme=dark] .colab-df-convert {\n",
              "      background-color: #3B4455;\n",
              "      fill: #D2E3FC;\n",
              "    }\n",
              "\n",
              "    [theme=dark] .colab-df-convert:hover {\n",
              "      background-color: #434B5C;\n",
              "      box-shadow: 0px 1px 3px 1px rgba(0, 0, 0, 0.15);\n",
              "      filter: drop-shadow(0px 1px 2px rgba(0, 0, 0, 0.3));\n",
              "      fill: #FFFFFF;\n",
              "    }\n",
              "  </style>\n",
              "\n",
              "    <script>\n",
              "      const buttonEl =\n",
              "        document.querySelector('#df-82f581b2-c66e-4b0d-b7f9-005ecb651dc3 button.colab-df-convert');\n",
              "      buttonEl.style.display =\n",
              "        google.colab.kernel.accessAllowed ? 'block' : 'none';\n",
              "\n",
              "      async function convertToInteractive(key) {\n",
              "        const element = document.querySelector('#df-82f581b2-c66e-4b0d-b7f9-005ecb651dc3');\n",
              "        const dataTable =\n",
              "          await google.colab.kernel.invokeFunction('convertToInteractive',\n",
              "                                                    [key], {});\n",
              "        if (!dataTable) return;\n",
              "\n",
              "        const docLinkHtml = 'Like what you see? Visit the ' +\n",
              "          '<a target=\"_blank\" href=https://colab.research.google.com/notebooks/data_table.ipynb>data table notebook</a>'\n",
              "          + ' to learn more about interactive tables.';\n",
              "        element.innerHTML = '';\n",
              "        dataTable['output_type'] = 'display_data';\n",
              "        await google.colab.output.renderOutput(dataTable, element);\n",
              "        const docLink = document.createElement('div');\n",
              "        docLink.innerHTML = docLinkHtml;\n",
              "        element.appendChild(docLink);\n",
              "      }\n",
              "    </script>\n",
              "  </div>\n",
              "\n",
              "\n",
              "<div id=\"df-559665d6-576e-465d-a4eb-99c611ab5413\">\n",
              "  <button class=\"colab-df-quickchart\" onclick=\"quickchart('df-559665d6-576e-465d-a4eb-99c611ab5413')\"\n",
              "            title=\"Suggest charts\"\n",
              "            style=\"display:none;\">\n",
              "\n",
              "<svg xmlns=\"http://www.w3.org/2000/svg\" height=\"24px\"viewBox=\"0 0 24 24\"\n",
              "     width=\"24px\">\n",
              "    <g>\n",
              "        <path d=\"M19 3H5c-1.1 0-2 .9-2 2v14c0 1.1.9 2 2 2h14c1.1 0 2-.9 2-2V5c0-1.1-.9-2-2-2zM9 17H7v-7h2v7zm4 0h-2V7h2v10zm4 0h-2v-4h2v4z\"/>\n",
              "    </g>\n",
              "</svg>\n",
              "  </button>\n",
              "\n",
              "<style>\n",
              "  .colab-df-quickchart {\n",
              "      --bg-color: #E8F0FE;\n",
              "      --fill-color: #1967D2;\n",
              "      --hover-bg-color: #E2EBFA;\n",
              "      --hover-fill-color: #174EA6;\n",
              "      --disabled-fill-color: #AAA;\n",
              "      --disabled-bg-color: #DDD;\n",
              "  }\n",
              "\n",
              "  [theme=dark] .colab-df-quickchart {\n",
              "      --bg-color: #3B4455;\n",
              "      --fill-color: #D2E3FC;\n",
              "      --hover-bg-color: #434B5C;\n",
              "      --hover-fill-color: #FFFFFF;\n",
              "      --disabled-bg-color: #3B4455;\n",
              "      --disabled-fill-color: #666;\n",
              "  }\n",
              "\n",
              "  .colab-df-quickchart {\n",
              "    background-color: var(--bg-color);\n",
              "    border: none;\n",
              "    border-radius: 50%;\n",
              "    cursor: pointer;\n",
              "    display: none;\n",
              "    fill: var(--fill-color);\n",
              "    height: 32px;\n",
              "    padding: 0;\n",
              "    width: 32px;\n",
              "  }\n",
              "\n",
              "  .colab-df-quickchart:hover {\n",
              "    background-color: var(--hover-bg-color);\n",
              "    box-shadow: 0 1px 2px rgba(60, 64, 67, 0.3), 0 1px 3px 1px rgba(60, 64, 67, 0.15);\n",
              "    fill: var(--button-hover-fill-color);\n",
              "  }\n",
              "\n",
              "  .colab-df-quickchart-complete:disabled,\n",
              "  .colab-df-quickchart-complete:disabled:hover {\n",
              "    background-color: var(--disabled-bg-color);\n",
              "    fill: var(--disabled-fill-color);\n",
              "    box-shadow: none;\n",
              "  }\n",
              "\n",
              "  .colab-df-spinner {\n",
              "    border: 2px solid var(--fill-color);\n",
              "    border-color: transparent;\n",
              "    border-bottom-color: var(--fill-color);\n",
              "    animation:\n",
              "      spin 1s steps(1) infinite;\n",
              "  }\n",
              "\n",
              "  @keyframes spin {\n",
              "    0% {\n",
              "      border-color: transparent;\n",
              "      border-bottom-color: var(--fill-color);\n",
              "      border-left-color: var(--fill-color);\n",
              "    }\n",
              "    20% {\n",
              "      border-color: transparent;\n",
              "      border-left-color: var(--fill-color);\n",
              "      border-top-color: var(--fill-color);\n",
              "    }\n",
              "    30% {\n",
              "      border-color: transparent;\n",
              "      border-left-color: var(--fill-color);\n",
              "      border-top-color: var(--fill-color);\n",
              "      border-right-color: var(--fill-color);\n",
              "    }\n",
              "    40% {\n",
              "      border-color: transparent;\n",
              "      border-right-color: var(--fill-color);\n",
              "      border-top-color: var(--fill-color);\n",
              "    }\n",
              "    60% {\n",
              "      border-color: transparent;\n",
              "      border-right-color: var(--fill-color);\n",
              "    }\n",
              "    80% {\n",
              "      border-color: transparent;\n",
              "      border-right-color: var(--fill-color);\n",
              "      border-bottom-color: var(--fill-color);\n",
              "    }\n",
              "    90% {\n",
              "      border-color: transparent;\n",
              "      border-bottom-color: var(--fill-color);\n",
              "    }\n",
              "  }\n",
              "</style>\n",
              "\n",
              "  <script>\n",
              "    async function quickchart(key) {\n",
              "      const quickchartButtonEl =\n",
              "        document.querySelector('#' + key + ' button');\n",
              "      quickchartButtonEl.disabled = true;  // To prevent multiple clicks.\n",
              "      quickchartButtonEl.classList.add('colab-df-spinner');\n",
              "      try {\n",
              "        const charts = await google.colab.kernel.invokeFunction(\n",
              "            'suggestCharts', [key], {});\n",
              "      } catch (error) {\n",
              "        console.error('Error during call to suggestCharts:', error);\n",
              "      }\n",
              "      quickchartButtonEl.classList.remove('colab-df-spinner');\n",
              "      quickchartButtonEl.classList.add('colab-df-quickchart-complete');\n",
              "    }\n",
              "    (() => {\n",
              "      let quickchartButtonEl =\n",
              "        document.querySelector('#df-559665d6-576e-465d-a4eb-99c611ab5413 button');\n",
              "      quickchartButtonEl.style.display =\n",
              "        google.colab.kernel.accessAllowed ? 'block' : 'none';\n",
              "    })();\n",
              "  </script>\n",
              "</div>\n",
              "\n",
              "    </div>\n",
              "  </div>\n"
            ],
            "application/vnd.google.colaboratory.intrinsic+json": {
              "type": "dataframe",
              "summary": "{\n  \"name\": \"dataset\",\n  \"rows\": 11,\n  \"fields\": [\n    {\n      \"column\": \"Message ID\",\n      \"properties\": {\n        \"dtype\": \"number\",\n        \"std\": 12151.190075388853,\n        \"min\": 0.0,\n        \"max\": 33716.0,\n        \"num_unique_values\": 7,\n        \"samples\": [\n          33716.0,\n          16857.5,\n          25286.25\n        ],\n        \"semantic_type\": \"\",\n        \"description\": \"\"\n      }\n    },\n    {\n      \"column\": \"Subject\",\n      \"properties\": {\n        \"dtype\": \"category\",\n        \"num_unique_values\": 4,\n        \"samples\": [\n          24206,\n          \"185\",\n          \"33427\"\n        ],\n        \"semantic_type\": \"\",\n        \"description\": \"\"\n      }\n    },\n    {\n      \"column\": \"Message\",\n      \"properties\": {\n        \"dtype\": \"category\",\n        \"num_unique_values\": 4,\n        \"samples\": [\n          29779,\n          \"65\",\n          \"33345\"\n        ],\n        \"semantic_type\": \"\",\n        \"description\": \"\"\n      }\n    },\n    {\n      \"column\": \"Spam/Ham\",\n      \"properties\": {\n        \"dtype\": \"category\",\n        \"num_unique_values\": 4,\n        \"samples\": [\n          2,\n          \"17171\",\n          \"33716\"\n        ],\n        \"semantic_type\": \"\",\n        \"description\": \"\"\n      }\n    },\n    {\n      \"column\": \"Date\",\n      \"properties\": {\n        \"dtype\": \"date\",\n        \"min\": \"1970-01-01 00:00:00.000000457\",\n        \"max\": \"2005-07-19 00:00:00\",\n        \"num_unique_values\": 4,\n        \"samples\": [\n          1527,\n          \"457\",\n          \"33716\"\n        ],\n        \"semantic_type\": \"\",\n        \"description\": \"\"\n      }\n    }\n  ]\n}"
            }
          },
          "metadata": {},
          "execution_count": 11
        }
      ]
    },
    {
      "cell_type": "markdown",
      "source": [
        "### **Check Unique Values for each variable.**"
      ],
      "metadata": {
        "id": "2Mm4VqMQjYLt"
      }
    },
    {
      "cell_type": "code",
      "source": [
        "# Check Unique Values for each variable using a for loop.\n",
        "for i in dataset.columns.tolist():\n",
        "  print(\"No. of unique values in\",i,\"is\",dataset[i].nunique())"
      ],
      "metadata": {
        "colab": {
          "base_uri": "https://localhost:8080/"
        },
        "id": "PdpD7x9pjXzy",
        "outputId": "ff96a2ed-a935-4041-f85f-93f8f4d0045b"
      },
      "execution_count": null,
      "outputs": [
        {
          "output_type": "stream",
          "name": "stdout",
          "text": [
            "No. of unique values in Message ID is 33716\n",
            "No. of unique values in Subject is 24206\n",
            "No. of unique values in Message is 29779\n",
            "No. of unique values in Spam/Ham is 2\n",
            "No. of unique values in Date is 1527\n"
          ]
        }
      ]
    },
    {
      "cell_type": "markdown",
      "source": [
        "# ***Data Preprocessing***"
      ],
      "metadata": {
        "id": "_D1_g83XkMfU"
      }
    },
    {
      "cell_type": "code",
      "source": [
        "# Rename columns if needed - assuming original column names don't match desired names\n",
        "dataset.rename(columns={\"Message ID\": \"ID\",\n",
        "                       \"Spam/Ham\": \"Category\"}, inplace=True)\n",
        "\n",
        "# Create a binary 'Spam' column: 1 for 'spam' and 0 for 'ham', based on the 'Category' column\n",
        "dataset['Spam'] = dataset['Category'].apply(lambda x: 1 if x == 'spam' else 0)\n",
        "\n",
        "# Updated new dataset\n",
        "dataset.head()"
      ],
      "metadata": {
        "colab": {
          "base_uri": "https://localhost:8080/",
          "height": 206
        },
        "id": "eN1MGytXkrYY",
        "outputId": "59046e09-fde1-47b4-da22-211647480a26"
      },
      "execution_count": null,
      "outputs": [
        {
          "output_type": "execute_result",
          "data": {
            "text/plain": [
              "   ID                       Subject  \\\n",
              "0   0  christmas tree farm pictures   \n",
              "1   1      vastar resources , inc .   \n",
              "2   2  calpine daily gas nomination   \n",
              "3   3                    re : issue   \n",
              "4   4     meter 7268 nov allocation   \n",
              "\n",
              "                                             Message Category        Date  \\\n",
              "0                                                NaN      ham  1999-12-10   \n",
              "1  gary , production from the high island larger ...      ham  1999-12-13   \n",
              "2             - calpine daily gas nomination 1 . doc      ham  1999-12-14   \n",
              "3  fyi - see note below - already done .\\nstella\\...      ham  1999-12-14   \n",
              "4  fyi .\\n- - - - - - - - - - - - - - - - - - - -...      ham  1999-12-14   \n",
              "\n",
              "   Spam  \n",
              "0     0  \n",
              "1     0  \n",
              "2     0  \n",
              "3     0  \n",
              "4     0  "
            ],
            "text/html": [
              "\n",
              "  <div id=\"df-9b8fbef8-12c0-4c8e-9460-bac066b7051e\" class=\"colab-df-container\">\n",
              "    <div>\n",
              "<style scoped>\n",
              "    .dataframe tbody tr th:only-of-type {\n",
              "        vertical-align: middle;\n",
              "    }\n",
              "\n",
              "    .dataframe tbody tr th {\n",
              "        vertical-align: top;\n",
              "    }\n",
              "\n",
              "    .dataframe thead th {\n",
              "        text-align: right;\n",
              "    }\n",
              "</style>\n",
              "<table border=\"1\" class=\"dataframe\">\n",
              "  <thead>\n",
              "    <tr style=\"text-align: right;\">\n",
              "      <th></th>\n",
              "      <th>ID</th>\n",
              "      <th>Subject</th>\n",
              "      <th>Message</th>\n",
              "      <th>Category</th>\n",
              "      <th>Date</th>\n",
              "      <th>Spam</th>\n",
              "    </tr>\n",
              "  </thead>\n",
              "  <tbody>\n",
              "    <tr>\n",
              "      <th>0</th>\n",
              "      <td>0</td>\n",
              "      <td>christmas tree farm pictures</td>\n",
              "      <td>NaN</td>\n",
              "      <td>ham</td>\n",
              "      <td>1999-12-10</td>\n",
              "      <td>0</td>\n",
              "    </tr>\n",
              "    <tr>\n",
              "      <th>1</th>\n",
              "      <td>1</td>\n",
              "      <td>vastar resources , inc .</td>\n",
              "      <td>gary , production from the high island larger ...</td>\n",
              "      <td>ham</td>\n",
              "      <td>1999-12-13</td>\n",
              "      <td>0</td>\n",
              "    </tr>\n",
              "    <tr>\n",
              "      <th>2</th>\n",
              "      <td>2</td>\n",
              "      <td>calpine daily gas nomination</td>\n",
              "      <td>- calpine daily gas nomination 1 . doc</td>\n",
              "      <td>ham</td>\n",
              "      <td>1999-12-14</td>\n",
              "      <td>0</td>\n",
              "    </tr>\n",
              "    <tr>\n",
              "      <th>3</th>\n",
              "      <td>3</td>\n",
              "      <td>re : issue</td>\n",
              "      <td>fyi - see note below - already done .\\nstella\\...</td>\n",
              "      <td>ham</td>\n",
              "      <td>1999-12-14</td>\n",
              "      <td>0</td>\n",
              "    </tr>\n",
              "    <tr>\n",
              "      <th>4</th>\n",
              "      <td>4</td>\n",
              "      <td>meter 7268 nov allocation</td>\n",
              "      <td>fyi .\\n- - - - - - - - - - - - - - - - - - - -...</td>\n",
              "      <td>ham</td>\n",
              "      <td>1999-12-14</td>\n",
              "      <td>0</td>\n",
              "    </tr>\n",
              "  </tbody>\n",
              "</table>\n",
              "</div>\n",
              "    <div class=\"colab-df-buttons\">\n",
              "\n",
              "  <div class=\"colab-df-container\">\n",
              "    <button class=\"colab-df-convert\" onclick=\"convertToInteractive('df-9b8fbef8-12c0-4c8e-9460-bac066b7051e')\"\n",
              "            title=\"Convert this dataframe to an interactive table.\"\n",
              "            style=\"display:none;\">\n",
              "\n",
              "  <svg xmlns=\"http://www.w3.org/2000/svg\" height=\"24px\" viewBox=\"0 -960 960 960\">\n",
              "    <path d=\"M120-120v-720h720v720H120Zm60-500h600v-160H180v160Zm220 220h160v-160H400v160Zm0 220h160v-160H400v160ZM180-400h160v-160H180v160Zm440 0h160v-160H620v160ZM180-180h160v-160H180v160Zm440 0h160v-160H620v160Z\"/>\n",
              "  </svg>\n",
              "    </button>\n",
              "\n",
              "  <style>\n",
              "    .colab-df-container {\n",
              "      display:flex;\n",
              "      gap: 12px;\n",
              "    }\n",
              "\n",
              "    .colab-df-convert {\n",
              "      background-color: #E8F0FE;\n",
              "      border: none;\n",
              "      border-radius: 50%;\n",
              "      cursor: pointer;\n",
              "      display: none;\n",
              "      fill: #1967D2;\n",
              "      height: 32px;\n",
              "      padding: 0 0 0 0;\n",
              "      width: 32px;\n",
              "    }\n",
              "\n",
              "    .colab-df-convert:hover {\n",
              "      background-color: #E2EBFA;\n",
              "      box-shadow: 0px 1px 2px rgba(60, 64, 67, 0.3), 0px 1px 3px 1px rgba(60, 64, 67, 0.15);\n",
              "      fill: #174EA6;\n",
              "    }\n",
              "\n",
              "    .colab-df-buttons div {\n",
              "      margin-bottom: 4px;\n",
              "    }\n",
              "\n",
              "    [theme=dark] .colab-df-convert {\n",
              "      background-color: #3B4455;\n",
              "      fill: #D2E3FC;\n",
              "    }\n",
              "\n",
              "    [theme=dark] .colab-df-convert:hover {\n",
              "      background-color: #434B5C;\n",
              "      box-shadow: 0px 1px 3px 1px rgba(0, 0, 0, 0.15);\n",
              "      filter: drop-shadow(0px 1px 2px rgba(0, 0, 0, 0.3));\n",
              "      fill: #FFFFFF;\n",
              "    }\n",
              "  </style>\n",
              "\n",
              "    <script>\n",
              "      const buttonEl =\n",
              "        document.querySelector('#df-9b8fbef8-12c0-4c8e-9460-bac066b7051e button.colab-df-convert');\n",
              "      buttonEl.style.display =\n",
              "        google.colab.kernel.accessAllowed ? 'block' : 'none';\n",
              "\n",
              "      async function convertToInteractive(key) {\n",
              "        const element = document.querySelector('#df-9b8fbef8-12c0-4c8e-9460-bac066b7051e');\n",
              "        const dataTable =\n",
              "          await google.colab.kernel.invokeFunction('convertToInteractive',\n",
              "                                                    [key], {});\n",
              "        if (!dataTable) return;\n",
              "\n",
              "        const docLinkHtml = 'Like what you see? Visit the ' +\n",
              "          '<a target=\"_blank\" href=https://colab.research.google.com/notebooks/data_table.ipynb>data table notebook</a>'\n",
              "          + ' to learn more about interactive tables.';\n",
              "        element.innerHTML = '';\n",
              "        dataTable['output_type'] = 'display_data';\n",
              "        await google.colab.output.renderOutput(dataTable, element);\n",
              "        const docLink = document.createElement('div');\n",
              "        docLink.innerHTML = docLinkHtml;\n",
              "        element.appendChild(docLink);\n",
              "      }\n",
              "    </script>\n",
              "  </div>\n",
              "\n",
              "\n",
              "<div id=\"df-1eaf180a-4dcf-478b-85e8-96fcc6b30714\">\n",
              "  <button class=\"colab-df-quickchart\" onclick=\"quickchart('df-1eaf180a-4dcf-478b-85e8-96fcc6b30714')\"\n",
              "            title=\"Suggest charts\"\n",
              "            style=\"display:none;\">\n",
              "\n",
              "<svg xmlns=\"http://www.w3.org/2000/svg\" height=\"24px\"viewBox=\"0 0 24 24\"\n",
              "     width=\"24px\">\n",
              "    <g>\n",
              "        <path d=\"M19 3H5c-1.1 0-2 .9-2 2v14c0 1.1.9 2 2 2h14c1.1 0 2-.9 2-2V5c0-1.1-.9-2-2-2zM9 17H7v-7h2v7zm4 0h-2V7h2v10zm4 0h-2v-4h2v4z\"/>\n",
              "    </g>\n",
              "</svg>\n",
              "  </button>\n",
              "\n",
              "<style>\n",
              "  .colab-df-quickchart {\n",
              "      --bg-color: #E8F0FE;\n",
              "      --fill-color: #1967D2;\n",
              "      --hover-bg-color: #E2EBFA;\n",
              "      --hover-fill-color: #174EA6;\n",
              "      --disabled-fill-color: #AAA;\n",
              "      --disabled-bg-color: #DDD;\n",
              "  }\n",
              "\n",
              "  [theme=dark] .colab-df-quickchart {\n",
              "      --bg-color: #3B4455;\n",
              "      --fill-color: #D2E3FC;\n",
              "      --hover-bg-color: #434B5C;\n",
              "      --hover-fill-color: #FFFFFF;\n",
              "      --disabled-bg-color: #3B4455;\n",
              "      --disabled-fill-color: #666;\n",
              "  }\n",
              "\n",
              "  .colab-df-quickchart {\n",
              "    background-color: var(--bg-color);\n",
              "    border: none;\n",
              "    border-radius: 50%;\n",
              "    cursor: pointer;\n",
              "    display: none;\n",
              "    fill: var(--fill-color);\n",
              "    height: 32px;\n",
              "    padding: 0;\n",
              "    width: 32px;\n",
              "  }\n",
              "\n",
              "  .colab-df-quickchart:hover {\n",
              "    background-color: var(--hover-bg-color);\n",
              "    box-shadow: 0 1px 2px rgba(60, 64, 67, 0.3), 0 1px 3px 1px rgba(60, 64, 67, 0.15);\n",
              "    fill: var(--button-hover-fill-color);\n",
              "  }\n",
              "\n",
              "  .colab-df-quickchart-complete:disabled,\n",
              "  .colab-df-quickchart-complete:disabled:hover {\n",
              "    background-color: var(--disabled-bg-color);\n",
              "    fill: var(--disabled-fill-color);\n",
              "    box-shadow: none;\n",
              "  }\n",
              "\n",
              "  .colab-df-spinner {\n",
              "    border: 2px solid var(--fill-color);\n",
              "    border-color: transparent;\n",
              "    border-bottom-color: var(--fill-color);\n",
              "    animation:\n",
              "      spin 1s steps(1) infinite;\n",
              "  }\n",
              "\n",
              "  @keyframes spin {\n",
              "    0% {\n",
              "      border-color: transparent;\n",
              "      border-bottom-color: var(--fill-color);\n",
              "      border-left-color: var(--fill-color);\n",
              "    }\n",
              "    20% {\n",
              "      border-color: transparent;\n",
              "      border-left-color: var(--fill-color);\n",
              "      border-top-color: var(--fill-color);\n",
              "    }\n",
              "    30% {\n",
              "      border-color: transparent;\n",
              "      border-left-color: var(--fill-color);\n",
              "      border-top-color: var(--fill-color);\n",
              "      border-right-color: var(--fill-color);\n",
              "    }\n",
              "    40% {\n",
              "      border-color: transparent;\n",
              "      border-right-color: var(--fill-color);\n",
              "      border-top-color: var(--fill-color);\n",
              "    }\n",
              "    60% {\n",
              "      border-color: transparent;\n",
              "      border-right-color: var(--fill-color);\n",
              "    }\n",
              "    80% {\n",
              "      border-color: transparent;\n",
              "      border-right-color: var(--fill-color);\n",
              "      border-bottom-color: var(--fill-color);\n",
              "    }\n",
              "    90% {\n",
              "      border-color: transparent;\n",
              "      border-bottom-color: var(--fill-color);\n",
              "    }\n",
              "  }\n",
              "</style>\n",
              "\n",
              "  <script>\n",
              "    async function quickchart(key) {\n",
              "      const quickchartButtonEl =\n",
              "        document.querySelector('#' + key + ' button');\n",
              "      quickchartButtonEl.disabled = true;  // To prevent multiple clicks.\n",
              "      quickchartButtonEl.classList.add('colab-df-spinner');\n",
              "      try {\n",
              "        const charts = await google.colab.kernel.invokeFunction(\n",
              "            'suggestCharts', [key], {});\n",
              "      } catch (error) {\n",
              "        console.error('Error during call to suggestCharts:', error);\n",
              "      }\n",
              "      quickchartButtonEl.classList.remove('colab-df-spinner');\n",
              "      quickchartButtonEl.classList.add('colab-df-quickchart-complete');\n",
              "    }\n",
              "    (() => {\n",
              "      let quickchartButtonEl =\n",
              "        document.querySelector('#df-1eaf180a-4dcf-478b-85e8-96fcc6b30714 button');\n",
              "      quickchartButtonEl.style.display =\n",
              "        google.colab.kernel.accessAllowed ? 'block' : 'none';\n",
              "    })();\n",
              "  </script>\n",
              "</div>\n",
              "\n",
              "    </div>\n",
              "  </div>\n"
            ],
            "application/vnd.google.colaboratory.intrinsic+json": {
              "type": "dataframe",
              "variable_name": "dataset",
              "summary": "{\n  \"name\": \"dataset\",\n  \"rows\": 33716,\n  \"fields\": [\n    {\n      \"column\": \"ID\",\n      \"properties\": {\n        \"dtype\": \"number\",\n        \"std\": 9733,\n        \"min\": 0,\n        \"max\": 33715,\n        \"num_unique_values\": 33716,\n        \"samples\": [\n          3820,\n          3504,\n          30823\n        ],\n        \"semantic_type\": \"\",\n        \"description\": \"\"\n      }\n    },\n    {\n      \"column\": \"Subject\",\n      \"properties\": {\n        \"dtype\": \"string\",\n        \"num_unique_values\": 24206,\n        \"samples\": [\n          \"ferc meeting this morning - order on el paso capacity allocation\",\n          \"rolex watches now for pea nut\",\n          \"urgent help\"\n        ],\n        \"semantic_type\": \"\",\n        \"description\": \"\"\n      }\n    },\n    {\n      \"column\": \"Message\",\n      \"properties\": {\n        \"dtype\": \"string\",\n        \"num_unique_values\": 29779,\n        \"samples\": [\n          \"cera alert\\ntitle : the fallout from enron : implications for gas and power markets\\nurl ( s ) :\\nhttp : / / www . cera . com / eprofile ? u = 35\\nhttp : / / www . cera . com / eprofile ? u = 35\\nhttp : / / www . cera . com / eprofile ? u = 35\\nhttp : / / www . cera . com / eprofile ? u = 35\\nthe collapse of the proposed enron / dynegy merger has sent a shock wave through\\nthe industry but does not threaten the effective functioning of wholesale gas\\nand power markets in north america . major market participants have had more\\nthan a month to unwind positions with enron , and thus the overall exposure has\\nbeen greatly reduced .\\n* wholesale gas and power markets in north america continue to function\\neffectively . there is no reason for the physical flow of gas or power to be\\nimpeded this winter .\\n* liquidity for longer - term structured products has temporarily been reduced .\\nothers will move in to fill the gap , but this will take time .\\n* enron ' s problems do not represent a critical blow to deregulating gas and\\npower markets .\\nwe are sending this alert to global energy clients also because of enron ' s\\nmajor role in the us gas and power markets .\\n* * end * *\\nfollow above url to complete alert ( 2 printed pages ) .\\ne - mail category : alert\\ncera knowledge area ( s ) : western energy , global energy , north american gas , north american power\\nceraweek february 11 - 15 , 2002 - http : / / www . cera . com / ceraweek\\nspecial offer : register on - line before november 30 th , and a 2 - day pass\\nwill be upgraded to a 4 - day pass ( maximum $ 1 , 800 value ) .\\nday 1 : global oil / refined products ;\\nday 2 : natural gas / global energy ;\\nday 3 & 4 : electric power\\nto make changes to your cera . com profile go to :\\nhttp : / / www . cera . com / client / updateaccount\\nforgot your username and password ? go to :\\nhttp : / / www . cera . com / client / forgot\\nthis electronic message and attachments , if any , contain information\\nfrom cambridge energy research associates , inc . ( cera ) which is\\nconfidential and may be privileged . unauthorized disclosure , copying ,\\ndistribution or use of the contents of this message or any attachments ,\\nin whole or in part , is strictly prohibited .\\nterms of use : http : / / www . cera . com / tos\\nquestions / comments : webmaster @ cera . com\\ncopyright 2001 . cambridge energy research associates\",\n          \"people i am paying for : -\\nmyself\\njames new - power , gas and credit\\nmike wellings - uk power\\ncoralie evans - continental power\\nrobert yeo - uk and continental gas\\npaul d ' arcy - structured products\\ndavid wall - credit\\nandrew cornfield - metals risk manager\\npeople who may come from egm - fiona , we should get them on same booking if\\nthey confirm attendance ( patti , could you let fiona know ? )\\ncindy horn\\nkenny nicoll\\nmark fondren\\n- - - - - - - - - - - - - - - - - - - - - - forwarded by mike jordan / lon / ect on 25 / 09 / 2000 16 : 19\\n- - - - - - - - - - - - - - - - - - - - - - - - - - -\\nmike jordan\\n12 / 09 / 2000 08 : 26\\nto : sally beck / hou / ect @ ect\\ncc :\\nsubject : re : invitation list for operations business controller offsite\\nsally\\nproposed list - of all potential candidates\\nmyself\\njames new - and his lead risk managers\\nmike wellings - uk power\\ncoralie evans - continental power\\nrobert yeo - uk and continental gas\\npaul d ' arcy - structured products\\ndavid wall - credit\\ntim poullain - patterson - metals integration\\nandrew cornfield - metals risk manager\\nkevin rhodes - metals controller ( there are in fact two controllers at\\npresent kevin for financial trading and howard carter for merchanting )\\ni would leave ralph jaeger of frankfurt out of the offsite if places are\\nrestricted - he is covered by the mainstream accounting conferences , but i\\nwould have jan erland , and heidi and tiong hock from singapore .\\ni am not sure fernley would want to be there - but i can ask .\\non others - simon thurbin of liquids in london should be in houston and\\nwould be a good choice for inclusion . brent may want his two london\\ncontrollers of cindy horn and kenny nicoll to also come\\nwould you invite kristen to come with ( in place of barry ? ) .\\na long list ( and we may want to cut back ) but all these individuals carry\\nthe burden of operational risk assessment and management - standardising that\\nprocess would be an achievement indeed .\\nmike\\nps - shall we revisit agenda and discuss who should start preparing\\npresentations - we had thought about engaging rac , it etc\\nenron capital & trade resources corp .\\nfrom : sally beck 11 / 09 / 2000 21 : 49\\nto : mike jordan / lon / ect @ ect\\ncc :\\nsubject : invitation list for operations business controller offsite\\ndates : sunday , october 22 ( late afternoon , early evening kick - off , reception\\nand dinner )\\nmonday , october 23 ( all day , with evening event )\\ntuesday , october 24 ( through mid afternoon )\\nconfirmed speakers to date : jeff skilling ( tuesday , october 24 - available\\n9 : 30 am to 1 : 00 pm )\\nproposed list of attendees ( mike : let ' s talk about the scope of this list on\\ntuesday ) :\\nena\\ngas - steve jackson\\nleslie reeves\\nbob hall\\npower - stacey white\\ncalgary - peggy hedstrom\\neim\\npulp , paper , lumber - brenda herod\\negm\\ngeneral - brent price\\nglobal products - scott earnest\\nweather - todd hall\\nfinancial products - sheila glover\\n? kevin sweeney\\neel\\n? fernley dyson\\nmike jordan\\nlondon - james new\\nfrankfort - ralph jaeger\\nmetals - tim pouillan - patterson\\naustralia - heidi mason\\njapan - jan - erland beking\\nesa\\nscott mills\\nebs\\nbarry pearce\\nees\\nwanda curry ?\\nglobal risk management\\nsally beck\\nshona wilson\\neugenio perez\\nmike moscoso\",\n          \"hi louise ,\\nhopefully this is what you requested . if you prefer the other presentation ( by team as per the bound book wes gave you ) i can send that as well .\\n- - - - - original message - - - - -\\nfrom : hardy , trey\\nsent : monday , april 30 , 2001 8 : 37 am\\nto : killen , faith\\nsubject :\\nimportance : high\"\n        ],\n        \"semantic_type\": \"\",\n        \"description\": \"\"\n      }\n    },\n    {\n      \"column\": \"Category\",\n      \"properties\": {\n        \"dtype\": \"category\",\n        \"num_unique_values\": 2,\n        \"samples\": [\n          \"spam\",\n          \"ham\"\n        ],\n        \"semantic_type\": \"\",\n        \"description\": \"\"\n      }\n    },\n    {\n      \"column\": \"Date\",\n      \"properties\": {\n        \"dtype\": \"object\",\n        \"num_unique_values\": 1527,\n        \"samples\": [\n          \"2001-12-24\",\n          \"2000-03-23\"\n        ],\n        \"semantic_type\": \"\",\n        \"description\": \"\"\n      }\n    },\n    {\n      \"column\": \"Spam\",\n      \"properties\": {\n        \"dtype\": \"number\",\n        \"std\": 0,\n        \"min\": 0,\n        \"max\": 1,\n        \"num_unique_values\": 2,\n        \"samples\": [\n          1,\n          0\n        ],\n        \"semantic_type\": \"\",\n        \"description\": \"\"\n      }\n    }\n  ]\n}"
            }
          },
          "metadata": {},
          "execution_count": 13
        }
      ]
    },
    {
      "cell_type": "markdown",
      "source": [
        "# ***Data Vizualization with charts***"
      ],
      "metadata": {
        "id": "xbejmlFwlWZw"
      }
    },
    {
      "cell_type": "markdown",
      "source": [
        "### Chart-1: Distribution of Spam vs Ham"
      ],
      "metadata": {
        "id": "_Z5xXN_-lnUx"
      }
    },
    {
      "cell_type": "code",
      "source": [
        "# Chart - 1 Pie Chart Visualization Code For Distribution of Spam vs Ham Messages\n",
        "spread = dataset['Category'].value_counts()\n",
        "plt.rcParams['figure.figsize'] = (5,5)\n",
        "\n",
        "# Set Labels\n",
        "spread.plot(kind = 'pie', autopct='%1.2f%%', cmap='Set1')\n",
        "plt.title(f'Distribution of Spam vs Ham')\n",
        "\n",
        "# Display the Chart\n",
        "plt.show()"
      ],
      "metadata": {
        "colab": {
          "base_uri": "https://localhost:8080/",
          "height": 444
        },
        "id": "zCxlBMUYlg3e",
        "outputId": "f564364c-c7a4-4193-e439-929486927ed6"
      },
      "execution_count": null,
      "outputs": [
        {
          "output_type": "display_data",
          "data": {
            "text/plain": [
              "<Figure size 500x500 with 1 Axes>"
            ],
            "image/png": "[encoded data removed]"
          },
          "metadata": {}
        }
      ]
    },
    {
      "cell_type": "markdown",
      "source": [
        "### Chart-2: Most Used Words in Spam Messages"
      ],
      "metadata": {
        "id": "3oK19GfwmAl1"
      }
    },
    {
      "cell_type": "code",
      "source": [
        "# Splitting Spam Messages\n",
        "df_spam = dataset[dataset['Category']=='spam'].copy()\n",
        "\n",
        "# Chart - 2 WordCloud Plot Visualization Code For Most Used Words in Spam Messages\n",
        "# Create a String to Store All The Words\n",
        "comment_words = ''\n",
        "\n",
        "# Remove The Stopwords\n",
        "stopwords = set(STOPWORDS)\n",
        "\n",
        "# Iterate Through The Column\n",
        "for val in df_spam.Message:\n",
        "\n",
        "    # Typecaste Each Val to String\n",
        "    val = str(val)\n",
        "\n",
        "    # Split The Value\n",
        "    tokens = val.split()\n",
        "\n",
        "    # Converts Each Token into lowercase\n",
        "    for i in range(len(tokens)):\n",
        "        tokens[i] = tokens[i].lower()\n",
        "\n",
        "    comment_words += \" \".join(tokens)+\" \"\n",
        "\n",
        "# Set Parameters\n",
        "wordcloud = WordCloud(width = 1000, height = 500,\n",
        "                background_color ='white',\n",
        "                stopwords = stopwords,\n",
        "                min_font_size = 10,\n",
        "                max_words = 1000,\n",
        "                colormap = 'gist_heat_r').generate(comment_words)\n",
        "\n",
        "# Set Labels\n",
        "plt.figure(figsize = (6,6), facecolor = None)\n",
        "plt.title('Most Used Words In Spam Messages', fontsize = 15, pad=20)\n",
        "plt.imshow(wordcloud)\n",
        "plt.axis(\"off\")\n",
        "plt.tight_layout(pad = 0)\n",
        "\n",
        "# Display Chart\n",
        "plt.show()"
      ],
      "metadata": {
        "colab": {
          "base_uri": "https://localhost:8080/",
          "height": 380
        },
        "id": "kXRjkzN1mAl1",
        "outputId": "7e7a54fa-cb8c-46d4-a547-3d1c28b68da7"
      },
      "execution_count": null,
      "outputs": [
        {
          "output_type": "display_data",
          "data": {
            "text/plain": [
              "<Figure size 600x600 with 1 Axes>"
            ],
            "image/png": "[encoded data removed]"
          },
          "metadata": {}
        }
      ]
    },
    {
      "cell_type": "markdown",
      "source": [
        "## ***Feature Engineering***"
      ],
      "metadata": {
        "id": "CEl7xZKNq5N1"
      }
    },
    {
      "cell_type": "markdown",
      "source": [
        "### Splitting the data to train and test"
      ],
      "metadata": {
        "id": "TlXADG2enQXC"
      }
    },
    {
      "cell_type": "code",
      "source": [
        "# Create an instance of SimpleImputer to replace NaN values with an empty string\n",
        "imputer = SimpleImputer(strategy='constant', fill_value='')\n",
        "\n",
        "# Calculate Message Length and Length Bin before train_test_split\n",
        "# Impute missing values in the 'Message' column before calculating length\n",
        "# dataset['Message'] = imputer.fit_transform(dataset[['Message']]) # Original line causing error\n",
        "dataset['Message'] = imputer.fit_transform(dataset[['Message']]).ravel() # Impute missing values and flatten the output\n",
        "dataset['Message'] = dataset['Message'].astype(str) # Convert to string after imputation\n",
        "dataset['Message_Length'] = dataset['Message'].apply(len)\n",
        "dataset['Length_Bin'] = pd.qcut(dataset['Message_Length'], q=8, labels=False)  # 5 bins # This line creates the 'Length_Bin' column\n",
        "\n",
        "# Splitting the data to train and test\n",
        "X_train, X_test, y_train, y_test = train_test_split(\n",
        "       dataset.Message, dataset.Spam, test_size=0.35, stratify=dataset.Length_Bin, random_state=42\n",
        ")\n",
        "\n",
        "print(\"Training set size:\", X_train.shape[0])\n",
        "print(\"Test set size:\", X_test.shape[0])"
      ],
      "metadata": {
        "id": "ZovzX8WvnZGL",
        "colab": {
          "base_uri": "https://localhost:8080/"
        },
        "outputId": "ff20b6d7-00e4-4fb3-c811-ff50eac2747e"
      },
      "execution_count": null,
      "outputs": [
        {
          "output_type": "stream",
          "name": "stdout",
          "text": [
            "Training set size: 21915\n",
            "Test set size: 11801\n"
          ]
        }
      ]
    },
    {
      "cell_type": "markdown",
      "source": [
        "# ***ML Model Implementation***\n"
      ],
      "metadata": {
        "id": "sNmxTqI1nof8"
      }
    },
    {
      "cell_type": "markdown",
      "source": [
        "## **ML Model: Multinomial Naive Bayes**\n",
        "\n"
      ],
      "metadata": {
        "id": "XHB5WGiBZ8oX"
      }
    },
    {
      "cell_type": "markdown",
      "source": [
        "### **Getting the TF-IDF Vectorizer and saving it**"
      ],
      "metadata": {
        "id": "sVQbkBSGGGMQ"
      }
    },
    {
      "cell_type": "code",
      "source": [
        "# Train a TF-IDF vectorizer on X_train and transform both train and test data\n",
        "tfidf_vectorizer = TfidfVectorizer()\n",
        "X_train_tfidf = tfidf_vectorizer.fit_transform(X_train)\n",
        "X_test_tfidf = tfidf_vectorizer.transform(X_test)\n",
        "\n",
        "# Train the Multinomial Naïve Bayes classifier\n",
        "nb_model = MultinomialNB()\n",
        "nb_model.fit(X_train_tfidf, y_train)\n",
        "\n",
        "# Evaluate the model\n",
        "y_pred_train = nb_model.predict(X_train_tfidf)\n",
        "y_pred_test = nb_model.predict(X_test_tfidf)\n",
        "\n",
        "print(\"Naïve Bayes Model Performance:\")\n",
        "print(\"Train Accuracy:\", accuracy_score(y_train, y_pred_train))\n",
        "print(\"Test Accuracy:\", accuracy_score(y_test, y_pred_test))\n",
        "print(\"Test ROC AUC:\", roc_auc_score(y_test, y_pred_test))\n",
        "print(\"\\nClassification Report (Test):\")\n",
        "print(classification_report(y_test, y_pred_test))\n",
        "\n",
        "# Plot confusion matrix for test set\n",
        "cm = confusion_matrix(y_test, y_pred_test)\n",
        "plt.figure(figsize=(5,4))\n",
        "sns.heatmap(cm, annot=True, fmt='d', cmap='Blues', xticklabels=['Ham', 'Spam'], yticklabels=['Ham', 'Spam'])\n",
        "plt.xlabel(\"Predicted\")\n",
        "plt.ylabel(\"Actual\")\n",
        "plt.title(\"Naïve Bayes Confusion Matrix\")\n",
        "plt.show()\n"
      ],
      "metadata": {
        "colab": {
          "base_uri": "https://localhost:8080/",
          "height": 678
        },
        "id": "9Qzm7TJfGFK3",
        "outputId": "b0503525-f60c-4cb1-e03d-a087e5835f53"
      },
      "execution_count": null,
      "outputs": [
        {
          "output_type": "stream",
          "name": "stdout",
          "text": [
            "Naïve Bayes Model Performance:\n",
            "Train Accuracy: 0.9906000456308465\n",
            "Test Accuracy: 0.9864418269638167\n",
            "Test ROC AUC: 0.9864225492183488\n",
            "\n",
            "Classification Report (Test):\n",
            "              precision    recall  f1-score   support\n",
            "\n",
            "           0       0.99      0.99      0.99      5808\n",
            "           1       0.99      0.99      0.99      5993\n",
            "\n",
            "    accuracy                           0.99     11801\n",
            "   macro avg       0.99      0.99      0.99     11801\n",
            "weighted avg       0.99      0.99      0.99     11801\n",
            "\n"
          ]
        },
        {
          "output_type": "display_data",
          "data": {
            "text/plain": [
              "<Figure size 500x400 with 2 Axes>"
            ],
            "image/png": "[encoded data removed]"
          },
          "metadata": {}
        }
      ]
    },
    {
      "cell_type": "code",
      "source": [
        "# Save the TF-IDF vectorizer and the Naïve Bayes model\n",
        "with open('vectorizer.pkl', 'wb') as f:\n",
        "    pickle.dump(tfidf_vectorizer, f)\n",
        "with open('naive_bayes.pkl', 'wb') as f:\n",
        "    pickle.dump(nb_model, f)\n",
        "\n",
        "# Download the saved files (if needed)\n",
        "from google.colab import files\n",
        "files.download('vectorizer.pkl')\n",
        "files.download('naive_bayes.pkl')"
      ],
      "metadata": {
        "colab": {
          "base_uri": "https://localhost:8080/",
          "height": 17
        },
        "id": "7lOsNCfI2iMm",
        "outputId": "80958eeb-5793-4ffe-fb48-de2024b8cd71"
      },
      "execution_count": null,
      "outputs": [
        {
          "output_type": "display_data",
          "data": {
            "text/plain": [
              "<IPython.core.display.Javascript object>"
            ],
            "application/javascript": [
              "\n",
              "    async function download(id, filename, size) {\n",
              "      if (!google.colab.kernel.accessAllowed) {\n",
              "        return;\n",
              "      }\n",
              "      const div = document.createElement('div');\n",
              "      const label = document.createElement('label');\n",
              "      label.textContent = `Downloading \"${filename}\": `;\n",
              "      div.appendChild(label);\n",
              "      const progress = document.createElement('progress');\n",
              "      progress.max = size;\n",
              "      div.appendChild(progress);\n",
              "      document.body.appendChild(div);\n",
              "\n",
              "      const buffers = [];\n",
              "      let downloaded = 0;\n",
              "\n",
              "      const channel = await google.colab.kernel.comms.open(id);\n",
              "      // Send a message to notify the kernel that we're ready.\n",
              "      channel.send({})\n",
              "\n",
              "      for await (const message of channel.messages) {\n",
              "        // Send a message to notify the kernel that we're ready.\n",
              "        channel.send({})\n",
              "        if (message.buffers) {\n",
              "          for (const buffer of message.buffers) {\n",
              "            buffers.push(buffer);\n",
              "            downloaded += buffer.byteLength;\n",
              "            progress.value = downloaded;\n",
              "          }\n",
              "        }\n",
              "      }\n",
              "      const blob = new Blob(buffers, {type: 'application/binary'});\n",
              "      const a = document.createElement('a');\n",
              "      a.href = window.URL.createObjectURL(blob);\n",
              "      a.download = filename;\n",
              "      div.appendChild(a);\n",
              "      a.click();\n",
              "      div.remove();\n",
              "    }\n",
              "  "
            ]
          },
          "metadata": {}
        },
        {
          "output_type": "display_data",
          "data": {
            "text/plain": [
              "<IPython.core.display.Javascript object>"
            ],
            "application/javascript": [
              "download(\"download_f04a70ae-7b19-4a2d-bcc7-6adae1937dba\", \"vectorizer.pkl\", 2862590)"
            ]
          },
          "metadata": {}
        },
        {
          "output_type": "display_data",
          "data": {
            "text/plain": [
              "<IPython.core.display.Javascript object>"
            ],
            "application/javascript": [
              "\n",
              "    async function download(id, filename, size) {\n",
              "      if (!google.colab.kernel.accessAllowed) {\n",
              "        return;\n",
              "      }\n",
              "      const div = document.createElement('div');\n",
              "      const label = document.createElement('label');\n",
              "      label.textContent = `Downloading \"${filename}\": `;\n",
              "      div.appendChild(label);\n",
              "      const progress = document.createElement('progress');\n",
              "      progress.max = size;\n",
              "      div.appendChild(progress);\n",
              "      document.body.appendChild(div);\n",
              "\n",
              "      const buffers = [];\n",
              "      let downloaded = 0;\n",
              "\n",
              "      const channel = await google.colab.kernel.comms.open(id);\n",
              "      // Send a message to notify the kernel that we're ready.\n",
              "      channel.send({})\n",
              "\n",
              "      for await (const message of channel.messages) {\n",
              "        // Send a message to notify the kernel that we're ready.\n",
              "        channel.send({})\n",
              "        if (message.buffers) {\n",
              "          for (const buffer of message.buffers) {\n",
              "            buffers.push(buffer);\n",
              "            downloaded += buffer.byteLength;\n",
              "            progress.value = downloaded;\n",
              "          }\n",
              "        }\n",
              "      }\n",
              "      const blob = new Blob(buffers, {type: 'application/binary'});\n",
              "      const a = document.createElement('a');\n",
              "      a.href = window.URL.createObjectURL(blob);\n",
              "      a.download = filename;\n",
              "      div.appendChild(a);\n",
              "      a.click();\n",
              "      div.remove();\n",
              "    }\n",
              "  "
            ]
          },
          "metadata": {}
        },
        {
          "output_type": "display_data",
          "data": {
            "text/plain": [
              "<IPython.core.display.Javascript object>"
            ],
            "application/javascript": [
              "download(\"download_972de920-4ce2-4772-abff-baf500b3dca0\", \"naive_bayes.pkl\", 4097902)"
            ]
          },
          "metadata": {}
        }
      ]
    },
    {
      "cell_type": "code",
      "source": [
        "# Create an instance of SimpleImputer to replace NaN values with an empty string\n",
        "imputer = SimpleImputer(strategy='constant', fill_value='')\n",
        "\n",
        "# Calculate Message Length and Length Bin before train_test_split\n",
        "# Impute missing values in the 'Message' column before calculating length\n",
        "# dataset['Message'] = imputer.fit_transform(dataset[['Message']]) # Impute missing values  # Original line causing error\n",
        "dataset['Message'] = imputer.fit_transform(dataset[['Message']]).ravel() # Impute missing values and flatten the output\n",
        "dataset['Message'] = dataset['Message'].astype(str) # Convert to string after imputation\n",
        "dataset['Message_Length'] = dataset['Message'].apply(len)\n",
        "dataset['Length_Bin'] = pd.qcut(dataset['Message_Length'], q=8, labels=False)  # 5 bins\n",
        "\n",
        "# Splitting the data to train and test\n",
        "X_train, X_test, y_train, y_test = train_test_split(\n",
        "       dataset.Message, dataset.Spam, test_size=0.35, stratify=dataset.Length_Bin, random_state=42\n",
        ")\n",
        "\n",
        "# Initialize the MultinomialNB classifier\n",
        "clf = MultinomialNB()\n",
        "\n",
        "# Create a pipeline with CountVectorizer and the MultinomialNB classifier\n",
        "model = Pipeline([\n",
        "    ('vectorizer', CountVectorizer()),  # Text feature extraction\n",
        "    ('clf', clf)  # Your MultinomialNB classifier\n",
        "])\n",
        "\n",
        "\n",
        "\n",
        "# Apply the imputer to fill missing values in X_train and X_test\n",
        "# Convert X_train and X_test to NumPy arrays before reshaping\n",
        "X_train = imputer.fit_transform(X_train.values.reshape(-1, 1)).ravel() # Reshape for SimpleImputer and flatten\n",
        "X_test = imputer.transform(X_test.values.reshape(-1, 1)).ravel()  # Reshape for SimpleImputer and flatten\n",
        "\n",
        "# No need to reshape back since we flattened the output\n",
        "# X_train = X_train.flatten() # This line is no longer needed\n",
        "# X_test = X_test.flatten() # This line is no longer needed"
      ],
      "metadata": {
        "id": "zDoJ90LTZJap"
      },
      "execution_count": null,
      "outputs": []
    },
    {
      "cell_type": "code",
      "source": [
        "def evaluate_model(model, X_train, X_test, y_train, y_test):\n",
        "    '''The function will take model, x train, x test, y train, y test\n",
        "    and then it will fit the model, then make predictions on the trained model,\n",
        "    it will then print roc-auc score of train and test, then plot the roc, auc curve,\n",
        "    print confusion matrix for train and test, then print classification report for train and test,\n",
        "    then plot the feature importances if the model has feature importances,\n",
        "    and finally it will return the following scores as a list:\n",
        "    recall_train, recall_test, acc_train, acc_test, roc_auc_train, roc_auc_test, F1_train, F1_test\n",
        "    '''\n",
        "\n",
        "    # Perform cross-validation\n",
        "    cv_results = cross_validate(model, X_train, y_train, cv=5,\n",
        "                                 scoring=['accuracy', 'neg_log_loss'],\n",
        "                                 return_train_score=True)\n",
        "\n",
        "    # Extract training and validation scores\n",
        "    train_accuracy = cv_results['train_accuracy']\n",
        "    val_accuracy = cv_results['test_accuracy']\n",
        "    train_loss = -cv_results['train_neg_log_loss']  # Negate to get actual loss\n",
        "    val_loss = -cv_results['test_neg_log_loss']    # Negate to get actual loss\n",
        "\n",
        "    # Plot training and validation curves\n",
        "    def plot_training_history(train_accuracy, val_accuracy, train_loss, val_loss):\n",
        "        plt.figure(figsize=(12, 5))\n",
        "\n",
        "        plt.subplot(1, 2, 1)\n",
        "        plt.plot(train_accuracy, label='Training Accuracy')\n",
        "        plt.plot(val_accuracy, label='Validation Accuracy')\n",
        "        plt.xlabel('Cross-Validation Fold')\n",
        "        plt.ylabel('Accuracy')\n",
        "        plt.title('Training and Validation Accuracy')\n",
        "        plt.legend()\n",
        "\n",
        "        plt.subplot(1, 2, 2)\n",
        "        plt.plot(train_loss, label='Training Loss')\n",
        "        plt.plot(val_loss, label='Validation Loss')\n",
        "        plt.xlabel('Cross-Validation Fold')\n",
        "        plt.ylabel('Loss')\n",
        "        plt.title('Training and Validation Loss')\n",
        "        plt.legend()\n",
        "\n",
        "        plt.tight_layout()\n",
        "        plt.show()\n",
        "\n",
        "    # Call the function to plot the curves\n",
        "    plot_training_history(train_accuracy, val_accuracy, train_loss, val_loss)\n",
        "\n",
        "    # fit the model on the training data\n",
        "    model.fit(X_train, y_train)\n",
        "\n",
        "    # Load the saved vectorizer\n",
        "    with open('vectorizer.pkl', 'rb') as file:\n",
        "        loaded_vectorizer = pickle.load(file)\n",
        "\n",
        "    # Transform training and testing data\n",
        "    X_train_tfidf = loaded_vectorizer.transform(X_train)  # Transform original X_train\n",
        "    X_test_tfidf = loaded_vectorizer.transform(X_test)    # Transform original X_test\n",
        "\n",
        "    # Train Naïve Bayes Model using the transformed data\n",
        "    naive_bayes_model = MultinomialNB()\n",
        "    naive_bayes_model.fit(X_train_tfidf, y_train) # Use original y_train\n",
        "\n",
        "\n",
        "    # make predictions on the test data\n",
        "    y_pred_train = model.predict(X_train)\n",
        "    y_pred_test = model.predict(X_test)\n",
        "    pred_prob_train = model.predict_proba(X_train)[:,1]\n",
        "    pred_prob_test = model.predict_proba(X_test)[:,1]\n",
        "\n",
        "    # calculate ROC AUC score\n",
        "    roc_auc_train = roc_auc_score(y_train, y_pred_train)\n",
        "    roc_auc_test = roc_auc_score(y_test, y_pred_test)\n",
        "    print(\"\\nTrain ROC AUC:\", roc_auc_train)\n",
        "    print(\"Test ROC AUC:\", roc_auc_test)\n",
        "\n",
        "    # plot the ROC curve\n",
        "    fpr_train, tpr_train, thresholds_train = roc_curve(y_train, pred_prob_train)\n",
        "    fpr_test, tpr_test, thresholds_test = roc_curve(y_test, pred_prob_test)\n",
        "    plt.plot([0,1],[0,1],'k--')\n",
        "    plt.plot(fpr_train, tpr_train, label=\"Train ROC AUC: {:.2f}\".format(roc_auc_train))\n",
        "    plt.plot(fpr_test, tpr_test, label=\"Test ROC AUC: {:.2f}\".format(roc_auc_test))\n",
        "    plt.legend()\n",
        "    plt.title(\"ROC Curve\")\n",
        "    plt.xlabel(\"False Positive Rate\")\n",
        "    plt.ylabel(\"True Positive Rate\")\n",
        "    plt.show()\n",
        "\n",
        "    # calculate confusion matrix\n",
        "    cm_train = confusion_matrix(y_train, y_pred_train)\n",
        "    cm_test = confusion_matrix(y_test, y_pred_test)\n",
        "\n",
        "    fig, ax = plt.subplots(1, 2, figsize=(11,4))\n",
        "\n",
        "    print(\"\\nConfusion Matrix:\")\n",
        "    sns.heatmap(cm_train, annot=True, xticklabels=['Negative', 'Positive'], yticklabels=['Negative', 'Positive'], cmap=\"Oranges\", fmt='.4g', ax=ax[0])\n",
        "    ax[0].set_xlabel(\"Predicted Label\")\n",
        "    ax[0].set_ylabel(\"True Label\")\n",
        "    ax[0].set_title(\"Train Confusion Matrix\")\n",
        "\n",
        "    sns.heatmap(cm_test, annot=True, xticklabels=['Negative', 'Positive'], yticklabels=['Negative', 'Positive'], cmap=\"Oranges\", fmt='.4g', ax=ax[1])\n",
        "    ax[1].set_xlabel(\"Predicted Label\")\n",
        "    ax[1].set_ylabel(\"True Label\")\n",
        "    ax[1].set_title(\"Test Confusion Matrix\")\n",
        "\n",
        "    plt.tight_layout()\n",
        "    plt.show()\n",
        "\n",
        "\n",
        "    # calculate classification report\n",
        "    cr_train = classification_report(y_train, y_pred_train, output_dict=True)\n",
        "    cr_test = classification_report(y_test, y_pred_test, output_dict=True)\n",
        "    print(\"\\nTrain Classification Report:\")\n",
        "    crt = pd.DataFrame(cr_train).T\n",
        "    print(crt.to_markdown())\n",
        "    # sns.heatmap(pd.DataFrame(cr_train).T.iloc[:, :-1], annot=True, cmap=\"Blues\")\n",
        "    print(\"\\nTest Classification Report:\")\n",
        "    crt2 = pd.DataFrame(cr_test).T\n",
        "    print(crt2.to_markdown())\n",
        "    # sns.heatmap(pd.DataFrame(cr_test).T.iloc[:, :-1], annot=True, cmap=\"Blues\")\n",
        "\n",
        "\n",
        "    precision_train = cr_train['weighted avg']['precision']\n",
        "    precision_test = cr_test['weighted avg']['precision']\n",
        "\n",
        "    recall_train = cr_train['weighted avg']['recall']\n",
        "    recall_test = cr_test['weighted avg']['recall']\n",
        "\n",
        "    acc_train = accuracy_score(y_true = y_train, y_pred = y_pred_train)\n",
        "    acc_test = accuracy_score(y_true = y_test, y_pred = y_pred_test)\n",
        "\n",
        "    F1_train = cr_train['weighted avg']['f1-score']\n",
        "    F1_test = cr_test['weighted avg']['f1-score']\n",
        "\n",
        "    model_score = [precision_train, precision_test, recall_train, recall_test, acc_train, acc_test, roc_auc_train, roc_auc_test, F1_train, F1_test ]\n",
        "    return model_score"
      ],
      "metadata": {
        "id": "FgqAtqHmVa9R"
      },
      "execution_count": null,
      "outputs": []
    },
    {
      "cell_type": "markdown",
      "source": [
        "### Explain the ML Model Evaluation metric Score Chart"
      ],
      "metadata": {
        "id": "yMtZynoPV2Y7"
      }
    },
    {
      "cell_type": "code",
      "source": [
        "# Visualizing evaluation Metric Score chart\n",
        "MultinomialNB_score = evaluate_model(model, X_train, X_test, y_train, y_test)"
      ],
      "metadata": {
        "colab": {
          "base_uri": "https://localhost:8080/",
          "height": 1391
        },
        "id": "7BeuCapVV4eW",
        "outputId": "0d56bf09-c767-4ba0-c6af-7de889767e34"
      },
      "execution_count": null,
      "outputs": [
        {
          "output_type": "display_data",
          "data": {
            "text/plain": [
              "<Figure size 1200x500 with 2 Axes>"
            ],
            "image/png": "[encoded data removed]"
          },
          "metadata": {}
        },
        {
          "output_type": "stream",
          "name": "stdout",
          "text": [
            "\n",
            "Train ROC AUC: 0.9896771769238373\n",
            "Test ROC AUC: 0.985801329742367\n"
          ]
        },
        {
          "output_type": "display_data",
          "data": {
            "text/plain": [
              "<Figure size 500x500 with 1 Axes>"
            ],
            "image/png": "[encoded data removed]"
          },
          "metadata": {}
        },
        {
          "output_type": "stream",
          "name": "stdout",
          "text": [
            "\n",
            "Confusion Matrix:\n"
          ]
        },
        {
          "output_type": "display_data",
          "data": {
            "text/plain": [
              "<Figure size 1100x400 with 4 Axes>"
            ],
            "image/png": "[encoded data removed]"
          },
          "metadata": {}
        },
        {
          "output_type": "stream",
          "name": "stdout",
          "text": [
            "\n",
            "Train Classification Report:\n",
            "|              |   precision |   recall |   f1-score |      support |\n",
            "|:-------------|------------:|---------:|-----------:|-------------:|\n",
            "| 0            |    0.99445  | 0.984633 |   0.989517 | 10737        |\n",
            "| 1            |    0.985378 | 0.994722 |   0.990028 | 11178        |\n",
            "| accuracy     |    0.989779 | 0.989779 |   0.989779 |     0.989779 |\n",
            "| macro avg    |    0.989914 | 0.989677 |   0.989772 | 21915        |\n",
            "| weighted avg |    0.989823 | 0.989779 |   0.989777 | 21915        |\n",
            "\n",
            "Test Classification Report:\n",
            "|              |   precision |   recall |   f1-score |      support |\n",
            "|:-------------|------------:|---------:|-----------:|-------------:|\n",
            "| 0            |    0.988398 | 0.982782 |   0.985582 |  5808        |\n",
            "| 1            |    0.983405 | 0.98882  |   0.986105 |  5993        |\n",
            "| accuracy     |    0.985849 | 0.985849 |   0.985849 |     0.985849 |\n",
            "| macro avg    |    0.985902 | 0.985801 |   0.985844 | 11801        |\n",
            "| weighted avg |    0.985863 | 0.985849 |   0.985848 | 11801        |\n"
          ]
        }
      ]
    },
    {
      "cell_type": "markdown",
      "source": [
        "### **Saving and Downloading the ML Model**"
      ],
      "metadata": {
        "id": "008HWwuzo6C5"
      }
    },
    {
      "cell_type": "code",
      "source": [
        "from google.colab import files\n",
        "# After training your model (clf)\n",
        "# Save the model to a file\n",
        "with open('naive_bayes.pkl', 'wb') as model_file:\n",
        "    pickle.dump(clf, model_file)\n",
        "\n",
        "\n",
        "# Download the saved model file\n",
        "files.download('naive_bayes.pkl')"
      ],
      "metadata": {
        "colab": {
          "base_uri": "https://localhost:8080/",
          "height": 17
        },
        "id": "WwU9qfAto_5F",
        "outputId": "154f24f6-683e-4d11-c731-8d002c1e62cf"
      },
      "execution_count": null,
      "outputs": [
        {
          "output_type": "display_data",
          "data": {
            "text/plain": [
              "<IPython.core.display.Javascript object>"
            ],
            "application/javascript": [
              "\n",
              "    async function download(id, filename, size) {\n",
              "      if (!google.colab.kernel.accessAllowed) {\n",
              "        return;\n",
              "      }\n",
              "      const div = document.createElement('div');\n",
              "      const label = document.createElement('label');\n",
              "      label.textContent = `Downloading \"${filename}\": `;\n",
              "      div.appendChild(label);\n",
              "      const progress = document.createElement('progress');\n",
              "      progress.max = size;\n",
              "      div.appendChild(progress);\n",
              "      document.body.appendChild(div);\n",
              "\n",
              "      const buffers = [];\n",
              "      let downloaded = 0;\n",
              "\n",
              "      const channel = await google.colab.kernel.comms.open(id);\n",
              "      // Send a message to notify the kernel that we're ready.\n",
              "      channel.send({})\n",
              "\n",
              "      for await (const message of channel.messages) {\n",
              "        // Send a message to notify the kernel that we're ready.\n",
              "        channel.send({})\n",
              "        if (message.buffers) {\n",
              "          for (const buffer of message.buffers) {\n",
              "            buffers.push(buffer);\n",
              "            downloaded += buffer.byteLength;\n",
              "            progress.value = downloaded;\n",
              "          }\n",
              "        }\n",
              "      }\n",
              "      const blob = new Blob(buffers, {type: 'application/binary'});\n",
              "      const a = document.createElement('a');\n",
              "      a.href = window.URL.createObjectURL(blob);\n",
              "      a.download = filename;\n",
              "      div.appendChild(a);\n",
              "      a.click();\n",
              "      div.remove();\n",
              "    }\n",
              "  "
            ]
          },
          "metadata": {}
        },
        {
          "output_type": "display_data",
          "data": {
            "text/plain": [
              "<IPython.core.display.Javascript object>"
            ],
            "application/javascript": [
              "download(\"download_62615d23-bb9f-44fa-addf-f23c99bd3e3e\", \"naive_bayes.pkl\", 4097902)"
            ]
          },
          "metadata": {}
        }
      ]
    },
    {
      "cell_type": "markdown",
      "source": [
        "## **ML Model: LSTM Model**"
      ],
      "metadata": {
        "id": "Ns8YvL9_WTFc"
      }
    },
    {
      "cell_type": "markdown",
      "source": [
        "### **Data Preparation**"
      ],
      "metadata": {
        "id": "_-Z3tQ4VMxWW"
      }
    },
    {
      "cell_type": "code",
      "source": [
        "# ---------------------------------------------------------------------------------\n",
        "# 1. Data Preparation\n",
        "# ---------------------------------------------------------------------------------\n",
        "# Assume X_train, X_test, y_train, y_test are already defined.\n",
        "# y_train, y_test must be binary labels: 0 = ham, 1 = spam\n",
        "\n",
        "max_words = 10000      # Maximum vocabulary size\n",
        "max_length = 100       # Maximum sequence length to pad/truncate\n",
        "embedding_dim = 128    # Dimension of embedding vectors\n",
        "\n",
        "tokenizer = Tokenizer(num_words=max_words)\n",
        "tokenizer.fit_on_texts(X_train)\n",
        "\n",
        "X_train_seq = tokenizer.texts_to_sequences(X_train)\n",
        "X_test_seq  = tokenizer.texts_to_sequences(X_test)\n",
        "\n",
        "X_train_pad = pad_sequences(X_train_seq, maxlen=max_length)\n",
        "X_test_pad  = pad_sequences(X_test_seq, maxlen=max_length)"
      ],
      "metadata": {
        "id": "uQY7dyvcWTFd"
      },
      "execution_count": null,
      "outputs": []
    },
    {
      "cell_type": "markdown",
      "source": [
        "### **Build LSTM Model**"
      ],
      "metadata": {
        "id": "UyOlkYU0M4Tp"
      }
    },
    {
      "cell_type": "code",
      "source": [
        "# ---------------------------------------------------------------------------------\n",
        "# 2. Build the LSTM Model (Single Sigmoid Output)\n",
        "# ---------------------------------------------------------------------------------\n",
        "inputs = Input(shape=(max_length,))\n",
        "x = Embedding(input_dim=max_words, output_dim=embedding_dim)(inputs)\n",
        "x = Bidirectional(LSTM(32, return_sequences=False, dropout=0.3))(x)\n",
        "x = Dense(32, activation='relu')(x)\n",
        "x = Dropout(0.3)(x)\n",
        "outputs = Dense(1, activation='sigmoid')(x)\n",
        "\n",
        "lstm_model = Model(inputs=inputs, outputs=outputs)\n",
        "\n",
        "optimizer = tf.keras.optimizers.Adam(learning_rate=1e-4)\n",
        "lstm_model.compile(loss='binary_crossentropy', optimizer=optimizer, metrics=['accuracy'])\n",
        "lstm_model.summary()"
      ],
      "metadata": {
        "id": "tQhUiPL8M5WK",
        "colab": {
          "base_uri": "https://localhost:8080/"
        },
        "outputId": "fc7e602f-17e6-4c42-d204-7162cc0f0a8a"
      },
      "execution_count": null,
      "outputs": [
        {
          "output_type": "stream",
          "name": "stdout",
          "text": [
            "Model: \"model\"\n",
            "_________________________________________________________________\n",
            " Layer (type)                Output Shape              Param #   \n",
            "=================================================================\n",
            " input_1 (InputLayer)        [(None, 100)]             0         \n",
            "                                                                 \n",
            " embedding (Embedding)       (None, 100, 128)          1280000   \n",
            "                                                                 \n",
            " bidirectional (Bidirectiona  (None, 64)               41216     \n",
            " l)                                                              \n",
            "                                                                 \n",
            " dense (Dense)               (None, 32)                2080      \n",
            "                                                                 \n",
            " dropout (Dropout)           (None, 32)                0         \n",
            "                                                                 \n",
            " dense_1 (Dense)             (None, 1)                 33        \n",
            "                                                                 \n",
            "=================================================================\n",
            "Total params: 1,323,329\n",
            "Trainable params: 1,323,329\n",
            "Non-trainable params: 0\n",
            "_________________________________________________________________\n"
          ]
        }
      ]
    },
    {
      "cell_type": "markdown",
      "source": [
        "### **Implement Class Weights**"
      ],
      "metadata": {
        "id": "l025gJKtNBU_"
      }
    },
    {
      "cell_type": "code",
      "source": [
        "# ---------------------------------------------------------------------------------\n",
        "# 3. (Optional) Class Weights\n",
        "# ---------------------------------------------------------------------------------\n",
        "weights = class_weight.compute_class_weight('balanced', classes=np.unique(y_train), y=y_train)\n",
        "class_weights = dict(enumerate(weights))\n",
        "print(\"Computed Class Weights:\", class_weights)"
      ],
      "metadata": {
        "id": "Y8VJmf9tNB26",
        "colab": {
          "base_uri": "https://localhost:8080/"
        },
        "outputId": "55f6ea9f-10a5-41e1-ff46-bb5d498a462b"
      },
      "execution_count": null,
      "outputs": [
        {
          "output_type": "stream",
          "name": "stdout",
          "text": [
            "Computed Class Weights: {0: 1.020536462699078, 1: 0.9802737520128825}\n"
          ]
        }
      ]
    },
    {
      "cell_type": "markdown",
      "source": [
        "### **Stop Early of Epoch Training**"
      ],
      "metadata": {
        "id": "bGn9Z1DJNIz5"
      }
    },
    {
      "cell_type": "code",
      "source": [
        "# ---------------------------------------------------------------------------------\n",
        "# 4. EarlyStopping Callback\n",
        "# ---------------------------------------------------------------------------------\n",
        "callback = tf.keras.callbacks.EarlyStopping(\n",
        "    monitor='val_loss',\n",
        "    patience=5,\n",
        "    restore_best_weights=True\n",
        ")"
      ],
      "metadata": {
        "id": "XW5qKLXqNIje"
      },
      "execution_count": null,
      "outputs": []
    },
    {
      "cell_type": "markdown",
      "source": [
        "### **Training Steps of the LSTM Model**"
      ],
      "metadata": {
        "id": "uFX_jbpwNYle"
      }
    },
    {
      "cell_type": "markdown",
      "source": [
        "#### **Define a Callback to Measure Epoch Time**"
      ],
      "metadata": {
        "id": "T66yZ6QC1o-k"
      }
    },
    {
      "cell_type": "code",
      "source": [
        "\n",
        "# ---------------------------------------------------------------------------------\n",
        "# 1. Define a Callback to Measure Epoch Time\n",
        "# ---------------------------------------------------------------------------------\n",
        "class TimingCallback(tf.keras.callbacks.Callback):\n",
        "    def on_epoch_begin(self, epoch, logs=None):\n",
        "        self.epoch_start_time = time.time()\n",
        "\n",
        "    def on_epoch_end(self, epoch, logs=None):\n",
        "        elapsed = time.time() - self.epoch_start_time\n",
        "        print(f\"Epoch {epoch+1} took {elapsed:.2f} seconds\")\n",
        "\n",
        "timing_callback = TimingCallback()"
      ],
      "metadata": {
        "id": "Loyy6-eg1g6O"
      },
      "execution_count": null,
      "outputs": []
    },
    {
      "cell_type": "markdown",
      "source": [
        "#### **Train the LSTM Model**"
      ],
      "metadata": {
        "id": "Qjxok4nE1up5"
      }
    },
    {
      "cell_type": "code",
      "source": [
        "# ---------------------------------------------------------------------------------\n",
        "# 2. Train the LSTM Model\n",
        "# ---------------------------------------------------------------------------------\n",
        "history = lstm_model.fit(\n",
        "    X_train_pad, y_train,\n",
        "    epochs=10,\n",
        "    batch_size=64,\n",
        "    validation_data=(X_test_pad, y_test),\n",
        "    class_weight=class_weights,  # If you want to apply computed class weights\n",
        "    callbacks=[timing_callback, callback]  # 'callback' might be EarlyStopping\n",
        ")\n"
      ],
      "metadata": {
        "colab": {
          "base_uri": "https://localhost:8080/"
        },
        "id": "64NcFmpw1hzN",
        "outputId": "8b91af79-d9f1-48b4-9c1f-f3e7b5b62e23"
      },
      "execution_count": null,
      "outputs": [
        {
          "output_type": "stream",
          "name": "stdout",
          "text": [
            "Epoch 1/10\n",
            "343/343 [==============================] - ETA: 0s - loss: 0.4767 - accuracy: 0.8057Epoch 1 took 1209.93 seconds\n",
            "343/343 [==============================] - 1210s 4s/step - loss: 0.4767 - accuracy: 0.8057 - val_loss: 0.1352 - val_accuracy: 0.9597\n",
            "Epoch 2/10\n",
            "343/343 [==============================] - ETA: 0s - loss: 0.1098 - accuracy: 0.9661Epoch 2 took 1190.95 seconds\n",
            "343/343 [==============================] - 1191s 3s/step - loss: 0.1098 - accuracy: 0.9661 - val_loss: 0.0794 - val_accuracy: 0.9731\n",
            "Epoch 3/10\n",
            "343/343 [==============================] - ETA: 0s - loss: 0.0678 - accuracy: 0.9797Epoch 3 took 1227.65 seconds\n",
            "343/343 [==============================] - 1228s 4s/step - loss: 0.0678 - accuracy: 0.9797 - val_loss: 0.0671 - val_accuracy: 0.9782\n",
            "Epoch 4/10\n",
            "343/343 [==============================] - ETA: 0s - loss: 0.0490 - accuracy: 0.9850Epoch 4 took 1289.14 seconds\n",
            "343/343 [==============================] - 1289s 4s/step - loss: 0.0490 - accuracy: 0.9850 - val_loss: 0.0614 - val_accuracy: 0.9806\n",
            "Epoch 5/10\n",
            "343/343 [==============================] - ETA: 0s - loss: 0.0380 - accuracy: 0.9880Epoch 5 took 1293.55 seconds\n",
            "343/343 [==============================] - 1294s 4s/step - loss: 0.0380 - accuracy: 0.9880 - val_loss: 0.0573 - val_accuracy: 0.9809\n",
            "Epoch 6/10\n",
            "343/343 [==============================] - ETA: 0s - loss: 0.0324 - accuracy: 0.9898Epoch 6 took 1271.34 seconds\n",
            "343/343 [==============================] - 1271s 4s/step - loss: 0.0324 - accuracy: 0.9898 - val_loss: 0.0582 - val_accuracy: 0.9814\n",
            "Epoch 7/10\n",
            "343/343 [==============================] - ETA: 0s - loss: 0.0265 - accuracy: 0.9917Epoch 7 took 1295.23 seconds\n",
            "343/343 [==============================] - 1295s 4s/step - loss: 0.0265 - accuracy: 0.9917 - val_loss: 0.0610 - val_accuracy: 0.9811\n",
            "Epoch 8/10\n",
            "343/343 [==============================] - ETA: 0s - loss: 0.0236 - accuracy: 0.9926Epoch 8 took 1272.60 seconds\n",
            "343/343 [==============================] - 1273s 4s/step - loss: 0.0236 - accuracy: 0.9926 - val_loss: 0.0607 - val_accuracy: 0.9803\n",
            "Epoch 9/10\n",
            "343/343 [==============================] - ETA: 0s - loss: 0.0220 - accuracy: 0.9929Epoch 9 took 1349.44 seconds\n",
            "343/343 [==============================] - 1349s 4s/step - loss: 0.0220 - accuracy: 0.9929 - val_loss: 0.0653 - val_accuracy: 0.9799\n",
            "Epoch 10/10\n",
            "343/343 [==============================] - ETA: 0s - loss: 0.0189 - accuracy: 0.9937Epoch 10 took 1198.89 seconds\n",
            "343/343 [==============================] - 1199s 3s/step - loss: 0.0189 - accuracy: 0.9937 - val_loss: 0.0635 - val_accuracy: 0.9823\n"
          ]
        }
      ]
    },
    {
      "cell_type": "markdown",
      "source": [
        "#### **Plot Training and Validation Curves by Epoch**"
      ],
      "metadata": {
        "id": "5od72epA1yOu"
      }
    },
    {
      "cell_type": "code",
      "source": [
        "# ---------------------------------------------------------------------------------\n",
        "# 3. Plot Training and Validation Curves by Epoch\n",
        "# ---------------------------------------------------------------------------------\n",
        "def plot_training_history(history):\n",
        "    \"\"\"\n",
        "    Plots training & validation accuracy and loss from the Keras history object.\n",
        "    \"\"\"\n",
        "    train_accuracy = history.history['accuracy']\n",
        "    val_accuracy   = history.history['val_accuracy']\n",
        "    train_loss     = history.history['loss']\n",
        "    val_loss       = history.history['val_loss']\n",
        "\n",
        "    epochs = range(1, len(train_accuracy) + 1)\n",
        "\n",
        "    plt.figure(figsize=(12, 5))\n",
        "\n",
        "    # Accuracy subplot\n",
        "    plt.subplot(1, 2, 1)\n",
        "    plt.plot(epochs, train_accuracy, label='Training Accuracy')\n",
        "    plt.plot(epochs, val_accuracy, label='Validation Accuracy')\n",
        "    plt.xlabel('Epoch')\n",
        "    plt.ylabel('Accuracy')\n",
        "    plt.title('Training and Validation Accuracy')\n",
        "    plt.legend()\n",
        "\n",
        "    # Loss subplot\n",
        "    plt.subplot(1, 2, 2)\n",
        "    plt.plot(epochs, train_loss, label='Training Loss')\n",
        "    plt.plot(epochs, val_loss, label='Validation Loss')\n",
        "    plt.xlabel('Epoch')\n",
        "    plt.ylabel('Loss')\n",
        "    plt.title('Training and Validation Loss')\n",
        "    plt.legend()\n",
        "\n",
        "    plt.tight_layout()\n",
        "    plt.show()\n",
        "\n",
        "# Call the plotting function\n",
        "plot_training_history(history)"
      ],
      "metadata": {
        "colab": {
          "base_uri": "https://localhost:8080/",
          "height": 507
        },
        "id": "j9DJ1qVi1mla",
        "outputId": "d7c05e6d-14d2-46d9-87ef-be1771bf9e11"
      },
      "execution_count": null,
      "outputs": [
        {
          "output_type": "display_data",
          "data": {
            "text/plain": [
              "<Figure size 1200x500 with 2 Axes>"
            ],
            "image/png": "[encoded data removed]"
          },
          "metadata": {}
        }
      ]
    },
    {
      "cell_type": "markdown",
      "source": [
        "### **Download Tokenizer**"
      ],
      "metadata": {
        "id": "OcrDFfQyC0JA"
      }
    },
    {
      "cell_type": "code",
      "source": [
        "import pickle\n",
        "\n",
        "# Save the tokenizer to a file named \"lstm_tokenizer.pkl\"\n",
        "with open(\"lstm_tokenizer.pkl\", \"wb\") as f:\n",
        "    pickle.dump(tokenizer, f)\n",
        "from google.colab import files\n",
        "files.download(\"lstm_tokenizer.pkl\")"
      ],
      "metadata": {
        "id": "nuUV41VKC5JJ",
        "colab": {
          "base_uri": "https://localhost:8080/",
          "height": 17
        },
        "outputId": "6dd33e0d-d788-46d9-99c7-eb82850caf6b"
      },
      "execution_count": null,
      "outputs": [
        {
          "output_type": "display_data",
          "data": {
            "text/plain": [
              "<IPython.core.display.Javascript object>"
            ],
            "application/javascript": [
              "\n",
              "    async function download(id, filename, size) {\n",
              "      if (!google.colab.kernel.accessAllowed) {\n",
              "        return;\n",
              "      }\n",
              "      const div = document.createElement('div');\n",
              "      const label = document.createElement('label');\n",
              "      label.textContent = `Downloading \"${filename}\": `;\n",
              "      div.appendChild(label);\n",
              "      const progress = document.createElement('progress');\n",
              "      progress.max = size;\n",
              "      div.appendChild(progress);\n",
              "      document.body.appendChild(div);\n",
              "\n",
              "      const buffers = [];\n",
              "      let downloaded = 0;\n",
              "\n",
              "      const channel = await google.colab.kernel.comms.open(id);\n",
              "      // Send a message to notify the kernel that we're ready.\n",
              "      channel.send({})\n",
              "\n",
              "      for await (const message of channel.messages) {\n",
              "        // Send a message to notify the kernel that we're ready.\n",
              "        channel.send({})\n",
              "        if (message.buffers) {\n",
              "          for (const buffer of message.buffers) {\n",
              "            buffers.push(buffer);\n",
              "            downloaded += buffer.byteLength;\n",
              "            progress.value = downloaded;\n",
              "          }\n",
              "        }\n",
              "      }\n",
              "      const blob = new Blob(buffers, {type: 'application/binary'});\n",
              "      const a = document.createElement('a');\n",
              "      a.href = window.URL.createObjectURL(blob);\n",
              "      a.download = filename;\n",
              "      div.appendChild(a);\n",
              "      a.click();\n",
              "      div.remove();\n",
              "    }\n",
              "  "
            ]
          },
          "metadata": {}
        },
        {
          "output_type": "display_data",
          "data": {
            "text/plain": [
              "<IPython.core.display.Javascript object>"
            ],
            "application/javascript": [
              "download(\"download_0c963c39-58a3-4b28-a977-f054971e9f45\", \"lstm_tokenizer.pkl\", 5554497)"
            ]
          },
          "metadata": {}
        }
      ]
    },
    {
      "cell_type": "markdown",
      "source": [
        "### **Evaluate with Different Thresholds**"
      ],
      "metadata": {
        "id": "Rh26IiGeWTFe"
      }
    },
    {
      "cell_type": "code",
      "source": [
        "\n",
        "# ---------------------------------------------------------------------------------\n",
        "# 6. Evaluate with Different Thresholds\n",
        "# ---------------------------------------------------------------------------------\n",
        "y_pred_prob = lstm_model.predict(X_test_pad)\n",
        "\n",
        "threshold_1 = 0.5\n",
        "y_pred_05 = (y_pred_prob >= threshold_1).astype(int)\n",
        "\n",
        "print(f\"\\n--- Evaluation at Threshold = {threshold_1} ---\")\n",
        "print(\"Accuracy:\", accuracy_score(y_test, y_pred_05))\n",
        "print(\"ROC AUC:\", roc_auc_score(y_test, y_pred_prob.flatten()))\n",
        "print(\"Classification Report:\")\n",
        "print(classification_report(y_test, y_pred_05))\n",
        "\n",
        "cm_05 = confusion_matrix(y_test, y_pred_05)\n",
        "plt.figure(figsize=(5,4))\n",
        "sns.heatmap(cm_05, annot=True, fmt='d', cmap='Blues',\n",
        "            xticklabels=['Ham', 'Spam'], yticklabels=['Ham', 'Spam'])\n",
        "plt.xlabel(\"Predicted\")\n",
        "plt.ylabel(\"Actual\")\n",
        "plt.title(f\"LSTM Confusion Matrix (threshold={threshold_1})\")\n",
        "plt.show()\n",
        "\n",
        "threshold_2 = 0.6\n",
        "y_pred_06 = (y_pred_prob >= threshold_2).astype(int)\n",
        "\n",
        "print(f\"\\n--- Evaluation at Threshold = {threshold_2} ---\")\n",
        "print(\"Accuracy:\", accuracy_score(y_test, y_pred_06))\n",
        "print(\"ROC AUC:\", roc_auc_score(y_test, y_pred_prob.flatten()))\n",
        "print(\"Classification Report:\")\n",
        "print(classification_report(y_test, y_pred_06))\n",
        "\n",
        "cm_06 = confusion_matrix(y_test, y_pred_06)\n",
        "plt.figure(figsize=(5,4))\n",
        "sns.heatmap(cm_06, annot=True, fmt='d', cmap='Blues',\n",
        "            xticklabels=['Ham', 'Spam'], yticklabels=['Ham', 'Spam'])\n",
        "plt.xlabel(\"Predicted\")\n",
        "plt.ylabel(\"Actual\")\n",
        "plt.title(f\"LSTM Confusion Matrix (threshold={threshold_2})\")\n",
        "plt.show()"
      ],
      "metadata": {
        "id": "SnrkzDLzWTFe",
        "colab": {
          "base_uri": "https://localhost:8080/",
          "height": 1306
        },
        "outputId": "cc6650cd-db29-4dba-b28a-3e9ba7e18022"
      },
      "execution_count": null,
      "outputs": [
        {
          "output_type": "stream",
          "name": "stdout",
          "text": [
            "369/369 [==============================] - 178s 482ms/step\n",
            "\n",
            "--- Evaluation at Threshold = 0.5 ---\n",
            "Accuracy: 0.9809338191678671\n",
            "ROC AUC: 0.9975894598565176\n",
            "Classification Report:\n",
            "              precision    recall  f1-score   support\n",
            "\n",
            "           0       0.99      0.97      0.98      5808\n",
            "           1       0.97      0.99      0.98      5993\n",
            "\n",
            "    accuracy                           0.98     11801\n",
            "   macro avg       0.98      0.98      0.98     11801\n",
            "weighted avg       0.98      0.98      0.98     11801\n",
            "\n"
          ]
        },
        {
          "output_type": "display_data",
          "data": {
            "text/plain": [
              "<Figure size 500x400 with 2 Axes>"
            ],
            "image/png": "[encoded data removed]"
          },
          "metadata": {}
        },
        {
          "output_type": "stream",
          "name": "stdout",
          "text": [
            "\n",
            "--- Evaluation at Threshold = 0.6 ---\n",
            "Accuracy: 0.9815269892382001\n",
            "ROC AUC: 0.9975894598565176\n",
            "Classification Report:\n",
            "              precision    recall  f1-score   support\n",
            "\n",
            "           0       0.99      0.98      0.98      5808\n",
            "           1       0.98      0.99      0.98      5993\n",
            "\n",
            "    accuracy                           0.98     11801\n",
            "   macro avg       0.98      0.98      0.98     11801\n",
            "weighted avg       0.98      0.98      0.98     11801\n",
            "\n"
          ]
        },
        {
          "output_type": "display_data",
          "data": {
            "text/plain": [
              "<Figure size 500x400 with 2 Axes>"
            ],
            "image/png": "[encoded data removed]"
          },
          "metadata": {}
        }
      ]
    },
    {
      "cell_type": "markdown",
      "source": [
        "### **Plot Distribution of Predicted Probabilities**"
      ],
      "metadata": {
        "id": "JTe-8VKXNs93"
      }
    },
    {
      "cell_type": "code",
      "source": [
        "\n",
        "# ---------------------------------------------------------------------------------\n",
        "# 7. Plot Distribution of Predicted Probabilities\n",
        "# ---------------------------------------------------------------------------------\n",
        "spam_probs = y_pred_prob[y_test == 1]\n",
        "ham_probs  = y_pred_prob[y_test == 0]\n",
        "\n",
        "plt.hist(spam_probs, bins=20, alpha=0.5, label='Spam')\n",
        "plt.hist(ham_probs, bins=20, alpha=0.5, label='Ham')\n",
        "plt.xlabel(\"Predicted Spam Probability\")\n",
        "plt.ylabel(\"Frequency\")\n",
        "plt.legend()\n",
        "plt.title(\"Distribution of Predicted Probabilities\")\n",
        "plt.show()\n",
        "\n",
        "print(\"Average spam probability for true spam emails:\", np.mean(spam_probs))\n",
        "print(\"Average spam probability for true ham emails:\", np.mean(ham_probs))"
      ],
      "metadata": {
        "id": "P3s18pJsNtkb",
        "colab": {
          "base_uri": "https://localhost:8080/",
          "height": 523
        },
        "outputId": "578ed46e-3b11-413b-ef01-693b61c20586"
      },
      "execution_count": null,
      "outputs": [
        {
          "output_type": "display_data",
          "data": {
            "text/plain": [
              "<Figure size 500x500 with 1 Axes>"
            ],
            "image/png": "[encoded data removed]"
          },
          "metadata": {}
        },
        {
          "output_type": "stream",
          "name": "stdout",
          "text": [
            "Average spam probability for true spam emails: 0.974\n",
            "Average spam probability for true ham emails: 0.03128\n"
          ]
        }
      ]
    },
    {
      "cell_type": "code",
      "source": [
        "# ---------------------------------------------------------------------------------\n",
        "# 8. Save the Model\n",
        "# ---------------------------------------------------------------------------------\n",
        "with open(\"lstm_tokenizer.pkl\", \"wb\") as f:\n",
        "    pickle.dump(tokenizer, f)\n",
        "\n",
        "lstm_model.save(\"lstm_model.h5\")\n",
        "\n",
        "# (Optional) Download the files if running in Colab\n",
        "# from google.colab import files\n",
        "# files.download(\"lstm_tokenizer.pkl\")\n",
        "files.download(\"lstm_model.h5\")"
      ],
      "metadata": {
        "id": "JbLe0RuagmCO",
        "colab": {
          "base_uri": "https://localhost:8080/",
          "height": 17
        },
        "outputId": "71216ba7-b27d-4988-fdd8-98853c506477"
      },
      "execution_count": null,
      "outputs": [
        {
          "output_type": "display_data",
          "data": {
            "text/plain": [
              "<IPython.core.display.Javascript object>"
            ],
            "application/javascript": [
              "\n",
              "    async function download(id, filename, size) {\n",
              "      if (!google.colab.kernel.accessAllowed) {\n",
              "        return;\n",
              "      }\n",
              "      const div = document.createElement('div');\n",
              "      const label = document.createElement('label');\n",
              "      label.textContent = `Downloading \"${filename}\": `;\n",
              "      div.appendChild(label);\n",
              "      const progress = document.createElement('progress');\n",
              "      progress.max = size;\n",
              "      div.appendChild(progress);\n",
              "      document.body.appendChild(div);\n",
              "\n",
              "      const buffers = [];\n",
              "      let downloaded = 0;\n",
              "\n",
              "      const channel = await google.colab.kernel.comms.open(id);\n",
              "      // Send a message to notify the kernel that we're ready.\n",
              "      channel.send({})\n",
              "\n",
              "      for await (const message of channel.messages) {\n",
              "        // Send a message to notify the kernel that we're ready.\n",
              "        channel.send({})\n",
              "        if (message.buffers) {\n",
              "          for (const buffer of message.buffers) {\n",
              "            buffers.push(buffer);\n",
              "            downloaded += buffer.byteLength;\n",
              "            progress.value = downloaded;\n",
              "          }\n",
              "        }\n",
              "      }\n",
              "      const blob = new Blob(buffers, {type: 'application/binary'});\n",
              "      const a = document.createElement('a');\n",
              "      a.href = window.URL.createObjectURL(blob);\n",
              "      a.download = filename;\n",
              "      div.appendChild(a);\n",
              "      a.click();\n",
              "      div.remove();\n",
              "    }\n",
              "  "
            ]
          },
          "metadata": {}
        },
        {
          "output_type": "display_data",
          "data": {
            "text/plain": [
              "<IPython.core.display.Javascript object>"
            ],
            "application/javascript": [
              "download(\"download_207f7146-7e19-48e2-9ccc-a0fb11bd3d07\", \"lstm_model.h5\", 15938360)"
            ]
          },
          "metadata": {}
        }
      ]
    },
    {
      "cell_type": "markdown",
      "source": [
        "## **ML Model: Random Forest Model**"
      ],
      "metadata": {
        "id": "IOC1sIWcvXHa"
      }
    },
    {
      "cell_type": "markdown",
      "source": [
        "### **Feature Extraction using TF–IDF**"
      ],
      "metadata": {
        "id": "X6Xs_GOSwOLL"
      }
    },
    {
      "cell_type": "markdown",
      "source": [
        "### **Train the Random Forest Classifier**"
      ],
      "metadata": {
        "id": "yNyRGCPrwOph"
      }
    },
    {
      "cell_type": "code",
      "source": [
        "# ---------------------------\n",
        "# 2. Feature Extraction using TF–IDF\n",
        "# ---------------------------\n",
        "tfidf_vectorizer = TfidfVectorizer()\n",
        "X_train_tfidf = tfidf_vectorizer.fit_transform(X_train)\n",
        "X_test_tfidf = tfidf_vectorizer.transform(X_test)"
      ],
      "metadata": {
        "id": "b923SGbXvWP1"
      },
      "execution_count": null,
      "outputs": []
    },
    {
      "cell_type": "code",
      "source": [
        "# ---------------------------\n",
        "# 3. Train Random Forest\n",
        "# ---------------------------\n",
        "rf_model = RandomForestClassifier(n_estimators=100, random_state=42)\n",
        "rf_model.fit(X_train_tfidf, y_train)"
      ],
      "metadata": {
        "id": "7yFOjbN7wPLg",
        "colab": {
          "base_uri": "https://localhost:8080/",
          "height": 80
        },
        "outputId": "bddba388-dded-4201-eb69-7254c8bc8ba0"
      },
      "execution_count": null,
      "outputs": [
        {
          "output_type": "execute_result",
          "data": {
            "text/plain": [
              "RandomForestClassifier(random_state=42)"
            ],
            "text/html": [
              "<style>#sk-container-id-1 {\n",
              "  /* Definition of color scheme common for light and dark mode */\n",
              "  --sklearn-color-text: #000;\n",
              "  --sklearn-color-text-muted: #666;\n",
              "  --sklearn-color-line: gray;\n",
              "  /* Definition of color scheme for unfitted estimators */\n",
              "  --sklearn-color-unfitted-level-0: #fff5e6;\n",
              "  --sklearn-color-unfitted-level-1: #f6e4d2;\n",
              "  --sklearn-color-unfitted-level-2: #ffe0b3;\n",
              "  --sklearn-color-unfitted-level-3: chocolate;\n",
              "  /* Definition of color scheme for fitted estimators */\n",
              "  --sklearn-color-fitted-level-0: #f0f8ff;\n",
              "  --sklearn-color-fitted-level-1: #d4ebff;\n",
              "  --sklearn-color-fitted-level-2: #b3dbfd;\n",
              "  --sklearn-color-fitted-level-3: cornflowerblue;\n",
              "\n",
              "  /* Specific color for light theme */\n",
              "  --sklearn-color-text-on-default-background: var(--sg-text-color, var(--theme-code-foreground, var(--jp-content-font-color1, black)));\n",
              "  --sklearn-color-background: var(--sg-background-color, var(--theme-background, var(--jp-layout-color0, white)));\n",
              "  --sklearn-color-border-box: var(--sg-text-color, var(--theme-code-foreground, var(--jp-content-font-color1, black)));\n",
              "  --sklearn-color-icon: #696969;\n",
              "\n",
              "  @media (prefers-color-scheme: dark) {\n",
              "    /* Redefinition of color scheme for dark theme */\n",
              "    --sklearn-color-text-on-default-background: var(--sg-text-color, var(--theme-code-foreground, var(--jp-content-font-color1, white)));\n",
              "    --sklearn-color-background: var(--sg-background-color, var(--theme-background, var(--jp-layout-color0, #111)));\n",
              "    --sklearn-color-border-box: var(--sg-text-color, var(--theme-code-foreground, var(--jp-content-font-color1, white)));\n",
              "    --sklearn-color-icon: #878787;\n",
              "  }\n",
              "}\n",
              "\n",
              "#sk-container-id-1 {\n",
              "  color: var(--sklearn-color-text);\n",
              "}\n",
              "\n",
              "#sk-container-id-1 pre {\n",
              "  padding: 0;\n",
              "}\n",
              "\n",
              "#sk-container-id-1 input.sk-hidden--visually {\n",
              "  border: 0;\n",
              "  clip: rect(1px 1px 1px 1px);\n",
              "  clip: rect(1px, 1px, 1px, 1px);\n",
              "  height: 1px;\n",
              "  margin: -1px;\n",
              "  overflow: hidden;\n",
              "  padding: 0;\n",
              "  position: absolute;\n",
              "  width: 1px;\n",
              "}\n",
              "\n",
              "#sk-container-id-1 div.sk-dashed-wrapped {\n",
              "  border: 1px dashed var(--sklearn-color-line);\n",
              "  margin: 0 0.4em 0.5em 0.4em;\n",
              "  box-sizing: border-box;\n",
              "  padding-bottom: 0.4em;\n",
              "  background-color: var(--sklearn-color-background);\n",
              "}\n",
              "\n",
              "#sk-container-id-1 div.sk-container {\n",
              "  /* jupyter's `normalize.less` sets `[hidden] { display: none; }`\n",
              "     but bootstrap.min.css set `[hidden] { display: none !important; }`\n",
              "     so we also need the `!important` here to be able to override the\n",
              "     default hidden behavior on the sphinx rendered scikit-learn.org.\n",
              "     See: https://github.com/scikit-learn/scikit-learn/issues/21755 */\n",
              "  display: inline-block !important;\n",
              "  position: relative;\n",
              "}\n",
              "\n",
              "#sk-container-id-1 div.sk-text-repr-fallback {\n",
              "  display: none;\n",
              "}\n",
              "\n",
              "div.sk-parallel-item,\n",
              "div.sk-serial,\n",
              "div.sk-item {\n",
              "  /* draw centered vertical line to link estimators */\n",
              "  background-image: linear-gradient(var(--sklearn-color-text-on-default-background), var(--sklearn-color-text-on-default-background));\n",
              "  background-size: 2px 100%;\n",
              "  background-repeat: no-repeat;\n",
              "  background-position: center center;\n",
              "}\n",
              "\n",
              "/* Parallel-specific style estimator block */\n",
              "\n",
              "#sk-container-id-1 div.sk-parallel-item::after {\n",
              "  content: \"\";\n",
              "  width: 100%;\n",
              "  border-bottom: 2px solid var(--sklearn-color-text-on-default-background);\n",
              "  flex-grow: 1;\n",
              "}\n",
              "\n",
              "#sk-container-id-1 div.sk-parallel {\n",
              "  display: flex;\n",
              "  align-items: stretch;\n",
              "  justify-content: center;\n",
              "  background-color: var(--sklearn-color-background);\n",
              "  position: relative;\n",
              "}\n",
              "\n",
              "#sk-container-id-1 div.sk-parallel-item {\n",
              "  display: flex;\n",
              "  flex-direction: column;\n",
              "}\n",
              "\n",
              "#sk-container-id-1 div.sk-parallel-item:first-child::after {\n",
              "  align-self: flex-end;\n",
              "  width: 50%;\n",
              "}\n",
              "\n",
              "#sk-container-id-1 div.sk-parallel-item:last-child::after {\n",
              "  align-self: flex-start;\n",
              "  width: 50%;\n",
              "}\n",
              "\n",
              "#sk-container-id-1 div.sk-parallel-item:only-child::after {\n",
              "  width: 0;\n",
              "}\n",
              "\n",
              "/* Serial-specific style estimator block */\n",
              "\n",
              "#sk-container-id-1 div.sk-serial {\n",
              "  display: flex;\n",
              "  flex-direction: column;\n",
              "  align-items: center;\n",
              "  background-color: var(--sklearn-color-background);\n",
              "  padding-right: 1em;\n",
              "  padding-left: 1em;\n",
              "}\n",
              "\n",
              "\n",
              "/* Toggleable style: style used for estimator/Pipeline/ColumnTransformer box that is\n",
              "clickable and can be expanded/collapsed.\n",
              "- Pipeline and ColumnTransformer use this feature and define the default style\n",
              "- Estimators will overwrite some part of the style using the `sk-estimator` class\n",
              "*/\n",
              "\n",
              "/* Pipeline and ColumnTransformer style (default) */\n",
              "\n",
              "#sk-container-id-1 div.sk-toggleable {\n",
              "  /* Default theme specific background. It is overwritten whether we have a\n",
              "  specific estimator or a Pipeline/ColumnTransformer */\n",
              "  background-color: var(--sklearn-color-background);\n",
              "}\n",
              "\n",
              "/* Toggleable label */\n",
              "#sk-container-id-1 label.sk-toggleable__label {\n",
              "  cursor: pointer;\n",
              "  display: flex;\n",
              "  width: 100%;\n",
              "  margin-bottom: 0;\n",
              "  padding: 0.5em;\n",
              "  box-sizing: border-box;\n",
              "  text-align: center;\n",
              "  align-items: start;\n",
              "  justify-content: space-between;\n",
              "  gap: 0.5em;\n",
              "}\n",
              "\n",
              "#sk-container-id-1 label.sk-toggleable__label .caption {\n",
              "  font-size: 0.6rem;\n",
              "  font-weight: lighter;\n",
              "  color: var(--sklearn-color-text-muted);\n",
              "}\n",
              "\n",
              "#sk-container-id-1 label.sk-toggleable__label-arrow:before {\n",
              "  /* Arrow on the left of the label */\n",
              "  content: \"▸\";\n",
              "  float: left;\n",
              "  margin-right: 0.25em;\n",
              "  color: var(--sklearn-color-icon);\n",
              "}\n",
              "\n",
              "#sk-container-id-1 label.sk-toggleable__label-arrow:hover:before {\n",
              "  color: var(--sklearn-color-text);\n",
              "}\n",
              "\n",
              "/* Toggleable content - dropdown */\n",
              "\n",
              "#sk-container-id-1 div.sk-toggleable__content {\n",
              "  max-height: 0;\n",
              "  max-width: 0;\n",
              "  overflow: hidden;\n",
              "  text-align: left;\n",
              "  /* unfitted */\n",
              "  background-color: var(--sklearn-color-unfitted-level-0);\n",
              "}\n",
              "\n",
              "#sk-container-id-1 div.sk-toggleable__content.fitted {\n",
              "  /* fitted */\n",
              "  background-color: var(--sklearn-color-fitted-level-0);\n",
              "}\n",
              "\n",
              "#sk-container-id-1 div.sk-toggleable__content pre {\n",
              "  margin: 0.2em;\n",
              "  border-radius: 0.25em;\n",
              "  color: var(--sklearn-color-text);\n",
              "  /* unfitted */\n",
              "  background-color: var(--sklearn-color-unfitted-level-0);\n",
              "}\n",
              "\n",
              "#sk-container-id-1 div.sk-toggleable__content.fitted pre {\n",
              "  /* unfitted */\n",
              "  background-color: var(--sklearn-color-fitted-level-0);\n",
              "}\n",
              "\n",
              "#sk-container-id-1 input.sk-toggleable__control:checked~div.sk-toggleable__content {\n",
              "  /* Expand drop-down */\n",
              "  max-height: 200px;\n",
              "  max-width: 100%;\n",
              "  overflow: auto;\n",
              "}\n",
              "\n",
              "#sk-container-id-1 input.sk-toggleable__control:checked~label.sk-toggleable__label-arrow:before {\n",
              "  content: \"▾\";\n",
              "}\n",
              "\n",
              "/* Pipeline/ColumnTransformer-specific style */\n",
              "\n",
              "#sk-container-id-1 div.sk-label input.sk-toggleable__control:checked~label.sk-toggleable__label {\n",
              "  color: var(--sklearn-color-text);\n",
              "  background-color: var(--sklearn-color-unfitted-level-2);\n",
              "}\n",
              "\n",
              "#sk-container-id-1 div.sk-label.fitted input.sk-toggleable__control:checked~label.sk-toggleable__label {\n",
              "  background-color: var(--sklearn-color-fitted-level-2);\n",
              "}\n",
              "\n",
              "/* Estimator-specific style */\n",
              "\n",
              "/* Colorize estimator box */\n",
              "#sk-container-id-1 div.sk-estimator input.sk-toggleable__control:checked~label.sk-toggleable__label {\n",
              "  /* unfitted */\n",
              "  background-color: var(--sklearn-color-unfitted-level-2);\n",
              "}\n",
              "\n",
              "#sk-container-id-1 div.sk-estimator.fitted input.sk-toggleable__control:checked~label.sk-toggleable__label {\n",
              "  /* fitted */\n",
              "  background-color: var(--sklearn-color-fitted-level-2);\n",
              "}\n",
              "\n",
              "#sk-container-id-1 div.sk-label label.sk-toggleable__label,\n",
              "#sk-container-id-1 div.sk-label label {\n",
              "  /* The background is the default theme color */\n",
              "  color: var(--sklearn-color-text-on-default-background);\n",
              "}\n",
              "\n",
              "/* On hover, darken the color of the background */\n",
              "#sk-container-id-1 div.sk-label:hover label.sk-toggleable__label {\n",
              "  color: var(--sklearn-color-text);\n",
              "  background-color: var(--sklearn-color-unfitted-level-2);\n",
              "}\n",
              "\n",
              "/* Label box, darken color on hover, fitted */\n",
              "#sk-container-id-1 div.sk-label.fitted:hover label.sk-toggleable__label.fitted {\n",
              "  color: var(--sklearn-color-text);\n",
              "  background-color: var(--sklearn-color-fitted-level-2);\n",
              "}\n",
              "\n",
              "/* Estimator label */\n",
              "\n",
              "#sk-container-id-1 div.sk-label label {\n",
              "  font-family: monospace;\n",
              "  font-weight: bold;\n",
              "  display: inline-block;\n",
              "  line-height: 1.2em;\n",
              "}\n",
              "\n",
              "#sk-container-id-1 div.sk-label-container {\n",
              "  text-align: center;\n",
              "}\n",
              "\n",
              "/* Estimator-specific */\n",
              "#sk-container-id-1 div.sk-estimator {\n",
              "  font-family: monospace;\n",
              "  border: 1px dotted var(--sklearn-color-border-box);\n",
              "  border-radius: 0.25em;\n",
              "  box-sizing: border-box;\n",
              "  margin-bottom: 0.5em;\n",
              "  /* unfitted */\n",
              "  background-color: var(--sklearn-color-unfitted-level-0);\n",
              "}\n",
              "\n",
              "#sk-container-id-1 div.sk-estimator.fitted {\n",
              "  /* fitted */\n",
              "  background-color: var(--sklearn-color-fitted-level-0);\n",
              "}\n",
              "\n",
              "/* on hover */\n",
              "#sk-container-id-1 div.sk-estimator:hover {\n",
              "  /* unfitted */\n",
              "  background-color: var(--sklearn-color-unfitted-level-2);\n",
              "}\n",
              "\n",
              "#sk-container-id-1 div.sk-estimator.fitted:hover {\n",
              "  /* fitted */\n",
              "  background-color: var(--sklearn-color-fitted-level-2);\n",
              "}\n",
              "\n",
              "/* Specification for estimator info (e.g. \"i\" and \"?\") */\n",
              "\n",
              "/* Common style for \"i\" and \"?\" */\n",
              "\n",
              ".sk-estimator-doc-link,\n",
              "a:link.sk-estimator-doc-link,\n",
              "a:visited.sk-estimator-doc-link {\n",
              "  float: right;\n",
              "  font-size: smaller;\n",
              "  line-height: 1em;\n",
              "  font-family: monospace;\n",
              "  background-color: var(--sklearn-color-background);\n",
              "  border-radius: 1em;\n",
              "  height: 1em;\n",
              "  width: 1em;\n",
              "  text-decoration: none !important;\n",
              "  margin-left: 0.5em;\n",
              "  text-align: center;\n",
              "  /* unfitted */\n",
              "  border: var(--sklearn-color-unfitted-level-1) 1pt solid;\n",
              "  color: var(--sklearn-color-unfitted-level-1);\n",
              "}\n",
              "\n",
              ".sk-estimator-doc-link.fitted,\n",
              "a:link.sk-estimator-doc-link.fitted,\n",
              "a:visited.sk-estimator-doc-link.fitted {\n",
              "  /* fitted */\n",
              "  border: var(--sklearn-color-fitted-level-1) 1pt solid;\n",
              "  color: var(--sklearn-color-fitted-level-1);\n",
              "}\n",
              "\n",
              "/* On hover */\n",
              "div.sk-estimator:hover .sk-estimator-doc-link:hover,\n",
              ".sk-estimator-doc-link:hover,\n",
              "div.sk-label-container:hover .sk-estimator-doc-link:hover,\n",
              ".sk-estimator-doc-link:hover {\n",
              "  /* unfitted */\n",
              "  background-color: var(--sklearn-color-unfitted-level-3);\n",
              "  color: var(--sklearn-color-background);\n",
              "  text-decoration: none;\n",
              "}\n",
              "\n",
              "div.sk-estimator.fitted:hover .sk-estimator-doc-link.fitted:hover,\n",
              ".sk-estimator-doc-link.fitted:hover,\n",
              "div.sk-label-container:hover .sk-estimator-doc-link.fitted:hover,\n",
              ".sk-estimator-doc-link.fitted:hover {\n",
              "  /* fitted */\n",
              "  background-color: var(--sklearn-color-fitted-level-3);\n",
              "  color: var(--sklearn-color-background);\n",
              "  text-decoration: none;\n",
              "}\n",
              "\n",
              "/* Span, style for the box shown on hovering the info icon */\n",
              ".sk-estimator-doc-link span {\n",
              "  display: none;\n",
              "  z-index: 9999;\n",
              "  position: relative;\n",
              "  font-weight: normal;\n",
              "  right: .2ex;\n",
              "  padding: .5ex;\n",
              "  margin: .5ex;\n",
              "  width: min-content;\n",
              "  min-width: 20ex;\n",
              "  max-width: 50ex;\n",
              "  color: var(--sklearn-color-text);\n",
              "  box-shadow: 2pt 2pt 4pt #999;\n",
              "  /* unfitted */\n",
              "  background: var(--sklearn-color-unfitted-level-0);\n",
              "  border: .5pt solid var(--sklearn-color-unfitted-level-3);\n",
              "}\n",
              "\n",
              ".sk-estimator-doc-link.fitted span {\n",
              "  /* fitted */\n",
              "  background: var(--sklearn-color-fitted-level-0);\n",
              "  border: var(--sklearn-color-fitted-level-3);\n",
              "}\n",
              "\n",
              ".sk-estimator-doc-link:hover span {\n",
              "  display: block;\n",
              "}\n",
              "\n",
              "/* \"?\"-specific style due to the `<a>` HTML tag */\n",
              "\n",
              "#sk-container-id-1 a.estimator_doc_link {\n",
              "  float: right;\n",
              "  font-size: 1rem;\n",
              "  line-height: 1em;\n",
              "  font-family: monospace;\n",
              "  background-color: var(--sklearn-color-background);\n",
              "  border-radius: 1rem;\n",
              "  height: 1rem;\n",
              "  width: 1rem;\n",
              "  text-decoration: none;\n",
              "  /* unfitted */\n",
              "  color: var(--sklearn-color-unfitted-level-1);\n",
              "  border: var(--sklearn-color-unfitted-level-1) 1pt solid;\n",
              "}\n",
              "\n",
              "#sk-container-id-1 a.estimator_doc_link.fitted {\n",
              "  /* fitted */\n",
              "  border: var(--sklearn-color-fitted-level-1) 1pt solid;\n",
              "  color: var(--sklearn-color-fitted-level-1);\n",
              "}\n",
              "\n",
              "/* On hover */\n",
              "#sk-container-id-1 a.estimator_doc_link:hover {\n",
              "  /* unfitted */\n",
              "  background-color: var(--sklearn-color-unfitted-level-3);\n",
              "  color: var(--sklearn-color-background);\n",
              "  text-decoration: none;\n",
              "}\n",
              "\n",
              "#sk-container-id-1 a.estimator_doc_link.fitted:hover {\n",
              "  /* fitted */\n",
              "  background-color: var(--sklearn-color-fitted-level-3);\n",
              "}\n",
              "</style><div id=\"sk-container-id-1\" class=\"sk-top-container\"><div class=\"sk-text-repr-fallback\"><pre>RandomForestClassifier(random_state=42)</pre><b>In a Jupyter environment, please rerun this cell to show the HTML representation or trust the notebook. <br />On GitHub, the HTML representation is unable to render, please try loading this page with nbviewer.org.</b></div><div class=\"sk-container\" hidden><div class=\"sk-item\"><div class=\"sk-estimator fitted sk-toggleable\"><input class=\"sk-toggleable__control sk-hidden--visually\" id=\"sk-estimator-id-1\" type=\"checkbox\" checked><label for=\"sk-estimator-id-1\" class=\"sk-toggleable__label fitted sk-toggleable__label-arrow\"><div><div>RandomForestClassifier</div></div><div><a class=\"sk-estimator-doc-link fitted\" rel=\"noreferrer\" target=\"_blank\" href=\"https://scikit-learn.org/1.6/modules/generated/sklearn.ensemble.RandomForestClassifier.html\">?<span>Documentation for RandomForestClassifier</span></a><span class=\"sk-estimator-doc-link fitted\">i<span>Fitted</span></span></div></label><div class=\"sk-toggleable__content fitted\"><pre>RandomForestClassifier(random_state=42)</pre></div> </div></div></div></div>"
            ]
          },
          "metadata": {},
          "execution_count": 35
        }
      ]
    },
    {
      "cell_type": "markdown",
      "source": [
        "### **Evaluate the Model**"
      ],
      "metadata": {
        "id": "GkCkwOxEwPoL"
      }
    },
    {
      "cell_type": "code",
      "source": [
        "# ---------------------------\n",
        "# 4. Evaluate on Train and Test\n",
        "# ---------------------------\n",
        "# (A) TRAIN\n",
        "y_pred_train = rf_model.predict(X_train_tfidf)\n",
        "train_acc = accuracy_score(y_train, y_pred_train)\n",
        "train_cr_dict = classification_report(y_train, y_pred_train, output_dict=True)\n",
        "train_cr_df = pd.DataFrame(train_cr_dict).T\n",
        "\n",
        "# (B) TEST\n",
        "y_pred_test = rf_model.predict(X_test_tfidf)\n",
        "test_acc = accuracy_score(y_test, y_pred_test)\n",
        "test_cr_dict = classification_report(y_test, y_pred_test, output_dict=True)\n",
        "test_cr_df = pd.DataFrame(test_cr_dict).T\n",
        "\n",
        "# Print train classification report in Markdown table format\n",
        "print(\"Train Classification Report:\")\n",
        "print(train_cr_df.to_markdown())\n",
        "\n",
        "# Print test classification report in Markdown table format\n",
        "print(\"\\nTest Classification Report:\")\n",
        "print(test_cr_df.to_markdown())\n",
        "\n",
        "# Print accuracies\n",
        "print(f\"\\nTrain Accuracy: {train_acc:.4f}\")\n",
        "print(f\"Test Accuracy:  {test_acc:.4f}\")\n",
        "\n",
        "# Confusion Matrices\n",
        "train_cm = confusion_matrix(y_train, y_pred_train)\n",
        "test_cm  = confusion_matrix(y_test, y_pred_test)\n",
        "\n",
        "# Plot side-by-side confusion matrices\n",
        "plt.figure(figsize=(10,4))\n",
        "\n",
        "# Train CM\n",
        "plt.subplot(1,2,1)\n",
        "sns.heatmap(train_cm, annot=True, fmt='d', cmap='Blues',\n",
        "            xticklabels=['Ham','Spam'], yticklabels=['Ham','Spam'])\n",
        "plt.title(\"Train Confusion Matrix\")\n",
        "plt.xlabel(\"Predicted\")\n",
        "plt.ylabel(\"Actual\")\n",
        "\n",
        "# Test CM\n",
        "plt.subplot(1,2,2)\n",
        "sns.heatmap(test_cm, annot=True, fmt='d', cmap='Blues',\n",
        "            xticklabels=['Ham','Spam'], yticklabels=['Ham','Spam'])\n",
        "plt.title(\"Test Confusion Matrix\")\n",
        "plt.xlabel(\"Predicted\")\n",
        "plt.ylabel(\"Actual\")\n",
        "\n",
        "plt.tight_layout()\n",
        "plt.show()\n",
        "\n",
        "# (Optional) Print ROC AUC on test set\n",
        "test_roc_auc = roc_auc_score(y_test, rf_model.predict_proba(X_test_tfidf)[:,1])\n",
        "print(f\"Test ROC AUC: {test_roc_auc:.4f}\")"
      ],
      "metadata": {
        "id": "y8D9QqIlwP3p",
        "colab": {
          "base_uri": "https://localhost:8080/",
          "height": 782
        },
        "outputId": "7cc0b913-93d6-43e3-be74-99d4e43b4aee"
      },
      "execution_count": null,
      "outputs": [
        {
          "output_type": "stream",
          "name": "stdout",
          "text": [
            "Train Classification Report:\n",
            "|              |   precision |   recall |   f1-score |      support |\n",
            "|:-------------|------------:|---------:|-----------:|-------------:|\n",
            "| 0            |    1        | 0.996833 |   0.998414 | 10737        |\n",
            "| 1            |    0.996968 | 1        |   0.998481 | 11178        |\n",
            "| accuracy     |    0.998449 | 0.998449 |   0.998449 |     0.998449 |\n",
            "| macro avg    |    0.998484 | 0.998417 |   0.998448 | 21915        |\n",
            "| weighted avg |    0.998453 | 0.998449 |   0.998448 | 21915        |\n",
            "\n",
            "Test Classification Report:\n",
            "|              |   precision |   recall |   f1-score |      support |\n",
            "|:-------------|------------:|---------:|-----------:|-------------:|\n",
            "| 0            |    0.98854  | 0.9802   |   0.984352 |  5808        |\n",
            "| 1            |    0.980967 | 0.988987 |   0.984961 |  5993        |\n",
            "| accuracy     |    0.984662 | 0.984662 |   0.984662 |     0.984662 |\n",
            "| macro avg    |    0.984753 | 0.984593 |   0.984656 | 11801        |\n",
            "| weighted avg |    0.984694 | 0.984662 |   0.984661 | 11801        |\n",
            "\n",
            "Train Accuracy: 0.9984\n",
            "Test Accuracy:  0.9847\n"
          ]
        },
        {
          "output_type": "display_data",
          "data": {
            "text/plain": [
              "<Figure size 1000x400 with 4 Axes>"
            ],
            "image/png": "[encoded data removed]"
          },
          "metadata": {}
        },
        {
          "output_type": "stream",
          "name": "stdout",
          "text": [
            "Test ROC AUC: 0.9973\n"
          ]
        }
      ]
    },
    {
      "cell_type": "markdown",
      "source": [
        "### **Save the Download the model**"
      ],
      "metadata": {
        "id": "uwp3luKpwscL"
      }
    },
    {
      "cell_type": "code",
      "source": [
        "\n",
        "# ---------------------------\n",
        "# 5. Save for Flask\n",
        "# ---------------------------\n",
        "with open(\"random_forest.pkl\", \"wb\") as f:\n",
        "    pickle.dump(rf_model, f)\n",
        "\n",
        "with open(\"rf_vectorizer.pkl\", \"wb\") as f:\n",
        "    pickle.dump(tfidf_vectorizer, f)\n",
        "\n",
        "print(\"\\nRandom Forest model and TF-IDF vectorizer saved to disk.\")\n",
        "files.download(\"rf_vectorizer.pkl\")\n",
        "files.download(\"random_forest.pkl\")\n",
        "print(\"Random Forest model and TF-IDF vectorizer downloaded to disk.\")"
      ],
      "metadata": {
        "id": "HrW_XMA0ws0Y",
        "colab": {
          "base_uri": "https://localhost:8080/",
          "height": 71
        },
        "outputId": "8d31a3bc-1596-48a4-9d4e-bc00c385bb98"
      },
      "execution_count": null,
      "outputs": [
        {
          "output_type": "stream",
          "name": "stdout",
          "text": [
            "\n",
            "Random Forest model and TF-IDF vectorizer saved to disk.\n"
          ]
        },
        {
          "output_type": "display_data",
          "data": {
            "text/plain": [
              "<IPython.core.display.Javascript object>"
            ],
            "application/javascript": [
              "\n",
              "    async function download(id, filename, size) {\n",
              "      if (!google.colab.kernel.accessAllowed) {\n",
              "        return;\n",
              "      }\n",
              "      const div = document.createElement('div');\n",
              "      const label = document.createElement('label');\n",
              "      label.textContent = `Downloading \"${filename}\": `;\n",
              "      div.appendChild(label);\n",
              "      const progress = document.createElement('progress');\n",
              "      progress.max = size;\n",
              "      div.appendChild(progress);\n",
              "      document.body.appendChild(div);\n",
              "\n",
              "      const buffers = [];\n",
              "      let downloaded = 0;\n",
              "\n",
              "      const channel = await google.colab.kernel.comms.open(id);\n",
              "      // Send a message to notify the kernel that we're ready.\n",
              "      channel.send({})\n",
              "\n",
              "      for await (const message of channel.messages) {\n",
              "        // Send a message to notify the kernel that we're ready.\n",
              "        channel.send({})\n",
              "        if (message.buffers) {\n",
              "          for (const buffer of message.buffers) {\n",
              "            buffers.push(buffer);\n",
              "            downloaded += buffer.byteLength;\n",
              "            progress.value = downloaded;\n",
              "          }\n",
              "        }\n",
              "      }\n",
              "      const blob = new Blob(buffers, {type: 'application/binary'});\n",
              "      const a = document.createElement('a');\n",
              "      a.href = window.URL.createObjectURL(blob);\n",
              "      a.download = filename;\n",
              "      div.appendChild(a);\n",
              "      a.click();\n",
              "      div.remove();\n",
              "    }\n",
              "  "
            ]
          },
          "metadata": {}
        },
        {
          "output_type": "display_data",
          "data": {
            "text/plain": [
              "<IPython.core.display.Javascript object>"
            ],
            "application/javascript": [
              "download(\"download_11e8bf55-a3c6-488b-9543-d169ee518167\", \"rf_vectorizer.pkl\", 2862590)"
            ]
          },
          "metadata": {}
        },
        {
          "output_type": "display_data",
          "data": {
            "text/plain": [
              "<IPython.core.display.Javascript object>"
            ],
            "application/javascript": [
              "\n",
              "    async function download(id, filename, size) {\n",
              "      if (!google.colab.kernel.accessAllowed) {\n",
              "        return;\n",
              "      }\n",
              "      const div = document.createElement('div');\n",
              "      const label = document.createElement('label');\n",
              "      label.textContent = `Downloading \"${filename}\": `;\n",
              "      div.appendChild(label);\n",
              "      const progress = document.createElement('progress');\n",
              "      progress.max = size;\n",
              "      div.appendChild(progress);\n",
              "      document.body.appendChild(div);\n",
              "\n",
              "      const buffers = [];\n",
              "      let downloaded = 0;\n",
              "\n",
              "      const channel = await google.colab.kernel.comms.open(id);\n",
              "      // Send a message to notify the kernel that we're ready.\n",
              "      channel.send({})\n",
              "\n",
              "      for await (const message of channel.messages) {\n",
              "        // Send a message to notify the kernel that we're ready.\n",
              "        channel.send({})\n",
              "        if (message.buffers) {\n",
              "          for (const buffer of message.buffers) {\n",
              "            buffers.push(buffer);\n",
              "            downloaded += buffer.byteLength;\n",
              "            progress.value = downloaded;\n",
              "          }\n",
              "        }\n",
              "      }\n",
              "      const blob = new Blob(buffers, {type: 'application/binary'});\n",
              "      const a = document.createElement('a');\n",
              "      a.href = window.URL.createObjectURL(blob);\n",
              "      a.download = filename;\n",
              "      div.appendChild(a);\n",
              "      a.click();\n",
              "      div.remove();\n",
              "    }\n",
              "  "
            ]
          },
          "metadata": {}
        },
        {
          "output_type": "display_data",
          "data": {
            "text/plain": [
              "<IPython.core.display.Javascript object>"
            ],
            "application/javascript": [
              "download(\"download_f5fdb885-8fa5-4795-8b4e-dccae54ee962\", \"random_forest.pkl\", 50394168)"
            ]
          },
          "metadata": {}
        },
        {
          "output_type": "stream",
          "name": "stdout",
          "text": [
            "Random Forest model and TF-IDF vectorizer downloaded to disk.\n"
          ]
        }
      ]
    },
    {
      "cell_type": "markdown",
      "source": [
        "## **Testing the Models**"
      ],
      "metadata": {
        "id": "j2-vEcFsqTKJ"
      }
    },
    {
      "cell_type": "code",
      "source": [
        "# --------------------------------------------------\n",
        "# Load the Models and Preprocessors\n",
        "# --------------------------------------------------\n",
        "# Load Naïve Bayes model and TF-IDF vectorizer\n",
        "nb_model = pickle.load(open(\"naive_bayes.pkl\", \"rb\"))\n",
        "vectorizer = pickle.load(open(\"vectorizer.pkl\", \"rb\"))\n",
        "\n",
        "# Load LSTM model and its tokenizer\n",
        "lstm_model = tf.keras.models.load_model(\"lstm_model.h5\")\n",
        "lstm_tokenizer = pickle.load(open(\"lstm_tokenizer.pkl\", \"rb\"))\n",
        "\n",
        "# Load Random Forest model (assumed saved as random_forest.pkl)\n",
        "rf_model = pickle.load(open(\"random_forest.pkl\", \"rb\"))\n",
        "\n",
        "# --------------------------------------------------\n",
        "# Define Sample Emails\n",
        "# --------------------------------------------------\n",
        "spam_email = \"\"\"Subject: URGENT: Claim Your Prize Now!\n",
        "Dear Customer,\n",
        "You have been selected as the lucky winner of our exclusive lottery. Please click the link below to claim your prize immediately.\n",
        "http://www.claimyourprize.com\n",
        "Best regards,\n",
        "Prize Team\"\"\"\n",
        "\n",
        "ham_email = \"\"\"Subject: Meeting Reminder\n",
        "Hi Team,\n",
        "Just a reminder that we have a meeting tomorrow at 10 AM to discuss our quarterly targets.\n",
        "Best,\n",
        "Manager\"\"\"\n",
        "\n",
        "# --------------------------------------------------\n",
        "# Define Prediction Functions\n",
        "# --------------------------------------------------\n",
        "def predict_nb(email_text):\n",
        "    email_text = email_text.strip().lower()\n",
        "    vec = vectorizer.transform([email_text])\n",
        "    pred = nb_model.predict(vec)[0]\n",
        "    return \"Spam\" if pred == 1 else \"Ham\"\n",
        "\n",
        "def predict_lstm(email_text, threshold=0.5):\n",
        "    email_text = email_text.strip().lower()\n",
        "    seq = lstm_tokenizer.texts_to_sequences([email_text])\n",
        "    padded = pad_sequences(seq, maxlen=100)\n",
        "    prob = lstm_model.predict(padded)[0][0]  # single probability value\n",
        "    print(f\"LSTM spam probability: {prob:.2f}\")\n",
        "    pred = 1 if prob >= threshold else 0\n",
        "    return (\"Spam\" if pred == 1 else \"Ham\"), prob\n",
        "\n",
        "def predict_rf(email_text):\n",
        "    email_text = email_text.strip().lower()\n",
        "    vec = vectorizer.transform([email_text])\n",
        "    pred = rf_model.predict(vec)[0]\n",
        "    return \"Spam\" if pred == 1 else \"Ham\"\n",
        "\n",
        "# --------------------------------------------------\n",
        "# Test the Models on Sample Emails\n",
        "# --------------------------------------------------\n",
        "print(\"Naïve Bayes Model Predictions:\")\n",
        "print(\"Spam Email Prediction: \", predict_nb(spam_email))\n",
        "print(\"Ham Email Prediction:  \", predict_nb(ham_email))\n",
        "\n",
        "print(\"\\nLSTM Model Predictions (using threshold=0.5):\")\n",
        "pred_spam, prob_spam = predict_lstm(spam_email, threshold=0.5)\n",
        "pred_ham, prob_ham   = predict_lstm(ham_email, threshold=0.5)\n",
        "print(\"Spam Email Prediction: \", pred_spam, f\"(Probability: {prob_spam:.2f})\")\n",
        "print(\"Ham Email Prediction:  \", pred_ham, f\"(Probability: {prob_ham:.2f})\")\n",
        "\n",
        "print(\"\\nRandom Forest Model Predictions:\")\n",
        "print(\"Spam Email Prediction: \", predict_rf(spam_email))\n",
        "print(\"Ham Email Prediction:  \", predict_rf(ham_email))"
      ],
      "metadata": {
        "id": "rUHwcRdppim7",
        "colab": {
          "base_uri": "https://localhost:8080/"
        },
        "outputId": "b336d963-e68e-49a5-aa54-7dbd1aea38a8"
      },
      "execution_count": null,
      "outputs": [
        {
          "output_type": "stream",
          "name": "stderr",
          "text": [
            "WARNING:tensorflow:Error in loading the saved optimizer state. As a result, your model is starting with a freshly initialized optimizer.\n"
          ]
        },
        {
          "output_type": "stream",
          "name": "stdout",
          "text": [
            "Naïve Bayes Model Predictions:\n",
            "Spam Email Prediction:  Spam\n",
            "Ham Email Prediction:   Ham\n",
            "\n",
            "LSTM Model Predictions (using threshold=0.5):\n",
            "1/1 [==============================] - 1s 670ms/step\n",
            "LSTM spam probability: 1.00\n",
            "1/1 [==============================] - 0s 35ms/step\n",
            "LSTM spam probability: 0.01\n",
            "Spam Email Prediction:  Spam (Probability: 1.00)\n",
            "Ham Email Prediction:   Ham (Probability: 0.01)\n",
            "\n",
            "Random Forest Model Predictions:\n",
            "Spam Email Prediction:  Spam\n",
            "Ham Email Prediction:   Ham\n"
          ]
        }
      ]
    },
    {
      "cell_type": "markdown",
      "source": [
        "# **THANK YOU!!**\n",
        "\n",
        "Reference and Inspirations Is As Follows"
      ],
      "metadata": {
        "id": "K70QTDd1kdOa"
      }
    },
    {
      "cell_type": "markdown",
      "source": [
        "https://github.com/5HU3HENDU/spam-random-forest\n",
        "\n",
        "https://github.com/wsy1607/Spam-Email-Detection\n",
        "\n",
        "https://github.com/Lanbig/spam-detection-tensorflow-lstm\n",
        "\n",
        "https://github.com/nerdylabs/Mail-Spam-detection-using-NLP"
      ],
      "metadata": {
        "id": "nyj4UH6lkoXg"
      }
    }
  ]
}